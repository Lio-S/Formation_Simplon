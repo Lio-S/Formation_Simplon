{
 "cells": [
  {
   "cell_type": "code",
   "execution_count": 1,
   "metadata": {},
   "outputs": [
    {
     "name": "stdout",
     "output_type": "stream",
     "text": [
      "Requirement already satisfied: mysql-connector-python in c:\\users\\user\\anaconda3\\lib\\site-packages (8.1.0)\n",
      "Requirement already satisfied: protobuf<=4.21.12,>=4.21.1 in c:\\users\\user\\anaconda3\\lib\\site-packages (from mysql-connector-python) (4.21.12)\n",
      "Note: you may need to restart the kernel to use updated packages.\n"
     ]
    }
   ],
   "source": [
    "pip install mysql-connector-python\n"
   ]
  },
  {
   "cell_type": "code",
   "execution_count": 2,
   "metadata": {},
   "outputs": [
    {
     "name": "stdout",
     "output_type": "stream",
     "text": [
      "La base de données 'courses' n'existe pas.\n",
      "La base de données 'courses' a été créée avec succès.\n"
     ]
    }
   ],
   "source": [
    "import mysql.connector\n",
    "\n",
    "# Remplacez les valeurs suivantes par les informations de connexion à votre serveur MySQL\n",
    "host = \"localhost\" # L'hôte du serveur MySQL\n",
    "user = \"root\"  # Votre nom d'utilisateur MySQL\n",
    "password = \"root\"  # Votre mot de passe MySQL\n",
    "database_name = \"courses\"  # Le nom de la nouvelle base de données\n",
    "\n",
    "\n",
    "\n",
    "# Créez une connexion au serveur MySQL\n",
    "conn = mysql.connector.connect(\n",
    "    host=host,\n",
    "    user=user,\n",
    "    password=password\n",
    ")\n",
    "\n",
    "# Créez un curseur pour exécuter des requêtes SQL\n",
    "cursor = conn.cursor()\n",
    "\n",
    "# Exécutez une requête SQL pour obtenir la liste des bases de données\n",
    "cursor.execute(\"SHOW DATABASES\")\n",
    "\n",
    "# Récupérez les résultats de la requête\n",
    "databases = cursor.fetchall()\n",
    "\n",
    "# Vérifiez si la base de données que vous recherchez existe\n",
    "if (database_name,) in databases:\n",
    "    print(f\"La base de données '{database_name}' existe.\")\n",
    "else:\n",
    "    print(f\"La base de données '{database_name}' n'existe pas.\")\n",
    "     # Utilisez le curseur pour exécuter une commande SQL de création de base de données\n",
    "    create_database_query = f\"CREATE DATABASE {database_name}\"\n",
    "    cursor.execute(create_database_query)\n",
    "    print(f\"La base de données '{database_name}' a été créée avec succès.\")\n",
    "\n",
    "# Fermez le curseur et la connexion\n",
    "cursor.close()\n",
    "conn.close()"
   ]
  },
  {
   "cell_type": "code",
   "execution_count": 3,
   "metadata": {},
   "outputs": [
    {
     "name": "stdout",
     "output_type": "stream",
     "text": [
      "La table 'produit' n'existe pas.\n",
      "La table 'produit' a été créée avec succès.\n",
      "La table 'famille_article' n'existe pas.\n",
      "La table 'famille_article' a été créée avec succès.\n",
      "La table 'conditions' n'existe pas.\n",
      "La table 'conditions' a été créée avec succès.\n"
     ]
    }
   ],
   "source": [
    "# Créez une connexion à la base de données\n",
    "conn = mysql.connector.connect(\n",
    "    host=host,\n",
    "    user=user,\n",
    "    password=password,\n",
    "    database=database_name\n",
    ")\n",
    "\n",
    "# Créez un curseur pour exécuter des requêtes SQL\n",
    "cursor = conn.cursor()\n",
    "\n",
    "# Exécutez une requête SQL pour obtenir la liste des bases de données\n",
    "cursor.execute(\"SHOW TABLES\")\n",
    "\n",
    "# Récupérez les résultats de la requête\n",
    "tables = cursor.fetchall()\n",
    "\n",
    "# Vérifiez si la base de données que vous recherchez existe\n",
    "if (\"produit\",) in tables:\n",
    "    print(f\"La table 'produit' existe.\")\n",
    "else:\n",
    "    print(f\"La table 'produit' n'existe pas.\")\n",
    "    # Définissez la commande SQL pour créer une table\n",
    "    create_table_produit = \"\"\"\n",
    "    CREATE TABLE produit (\n",
    "        id INT AUTO_INCREMENT PRIMARY KEY,\n",
    "        code_article INT,\n",
    "        libelle_article VARCHAR(255),\n",
    "        famille_article_id INT,\n",
    "        condition_id INT,\n",
    "        pu_ht DOUBLE\n",
    "    )\n",
    "    \"\"\"\n",
    "    # Exécutez la commande SQL pour créer la table\n",
    "    cursor.execute(create_table_produit)\n",
    "\n",
    "    print(f\"La table 'produit' a été créée avec succès.\")\n",
    "\n",
    "if (\"famille_article\",) in tables:\n",
    "    print(f\"La table 'famille_article' existe.\")\n",
    "else:\n",
    "    print(f\"La table 'famille_article' n'existe pas.\")\n",
    "    # Définissez la commande SQL pour créer une table\n",
    "    create_table_famille_article = \"\"\"\n",
    "    CREATE TABLE famille_article (\n",
    "        id INT AUTO_INCREMENT PRIMARY KEY,\n",
    "        famille_produit VARCHAR(255)\n",
    "    )\n",
    "    \"\"\"\n",
    "    # Exécutez la commande SQL pour créer la table\n",
    "    cursor.execute(create_table_famille_article)\n",
    "\n",
    "    print(f\"La table 'famille_article' a été créée avec succès.\")\n",
    "\n",
    "if (\"conditions\",) in tables:\n",
    "    print(f\"La table 'conditions' existe.\")\n",
    "else:\n",
    "    print(f\"La table 'conditions' n'existe pas.\")\n",
    "    # Définissez la commande SQL pour créer une table\n",
    "    create_table_condition = \"\"\"\n",
    "    CREATE TABLE conditions (\n",
    "        id INT AUTO_INCREMENT PRIMARY KEY,\n",
    "        contenant_produit VARCHAR(255)\n",
    "    )\n",
    "    \"\"\"\n",
    "    # Exécutez la commande SQL pour créer la table\n",
    "    cursor.execute(create_table_condition)\n",
    "\n",
    "    print(f\"La table 'conditions' a été créée avec succès.\")\n",
    "\n",
    "    # Validez la création de la table\n",
    "    conn.commit()\n",
    "\n",
    "# Fermez le curseur et la connexion\n",
    "cursor.close()\n",
    "conn.close()"
   ]
  },
  {
   "cell_type": "code",
   "execution_count": 4,
   "metadata": {},
   "outputs": [],
   "source": [
    "import csv"
   ]
  },
  {
   "cell_type": "code",
   "execution_count": 25,
   "metadata": {},
   "outputs": [
    {
     "name": "stdout",
     "output_type": "stream",
     "text": [
      "Voici les conditions:10\n",
      "voici les famille: 10:\n",
      "Voici les conditions:10\n"
     ]
    },
    {
     "ename": "InternalError",
     "evalue": "Unread result found",
     "output_type": "error",
     "traceback": [
      "\u001b[1;31m---------------------------------------------------------------------------\u001b[0m",
      "\u001b[1;31mInternalError\u001b[0m                             Traceback (most recent call last)",
      "\u001b[1;32mc:\\Users\\User\\Desktop\\Simplon datai\\simplon_datai_2025\\2\\création_database.ipynb Cell 5\u001b[0m line \u001b[0;36m4\n\u001b[0;32m     <a href='vscode-notebook-cell:/c%3A/Users/User/Desktop/Simplon%20datai/simplon_datai_2025/2/cr%C3%A9ation_database.ipynb#W4sZmlsZQ%3D%3D?line=41'>42</a>\u001b[0m \u001b[39mprint\u001b[39m(\u001b[39mf\u001b[39m\u001b[39m\"\u001b[39m\u001b[39mVoici les conditions:\u001b[39m\u001b[39m{\u001b[39;00mconditions_id\u001b[39m}\u001b[39;00m\u001b[39m\"\u001b[39m)\n\u001b[0;32m     <a href='vscode-notebook-cell:/c%3A/Users/User/Desktop/Simplon%20datai/simplon_datai_2025/2/cr%C3%A9ation_database.ipynb#W4sZmlsZQ%3D%3D?line=43'>44</a>\u001b[0m select_id_famille_article \u001b[39m=\u001b[39m \u001b[39mf\u001b[39m\u001b[39m\"\u001b[39m\u001b[39mSELECT id FROM famille_article WHERE famille_produit = %s\u001b[39m\u001b[39m\"\u001b[39m\n\u001b[1;32m---> <a href='vscode-notebook-cell:/c%3A/Users/User/Desktop/Simplon%20datai/simplon_datai_2025/2/cr%C3%A9ation_database.ipynb#W4sZmlsZQ%3D%3D?line=45'>46</a>\u001b[0m cursor\u001b[39m.\u001b[39mexecute(select_id_famille_article, (row[\u001b[39m2\u001b[39m],))\n\u001b[0;32m     <a href='vscode-notebook-cell:/c%3A/Users/User/Desktop/Simplon%20datai/simplon_datai_2025/2/cr%C3%A9ation_database.ipynb#W4sZmlsZQ%3D%3D?line=47'>48</a>\u001b[0m famille_article_id \u001b[39m=\u001b[39m cursor\u001b[39m.\u001b[39mfetchone()[\u001b[39m0\u001b[39m]\n\u001b[0;32m     <a href='vscode-notebook-cell:/c%3A/Users/User/Desktop/Simplon%20datai/simplon_datai_2025/2/cr%C3%A9ation_database.ipynb#W4sZmlsZQ%3D%3D?line=49'>50</a>\u001b[0m \u001b[39mprint\u001b[39m(\u001b[39mf\u001b[39m\u001b[39m\"\u001b[39m\u001b[39mvoici les famille: \u001b[39m\u001b[39m{\u001b[39;00mfamille_article_id\u001b[39m}\u001b[39;00m\u001b[39m:\u001b[39m\u001b[39m\"\u001b[39m)\n",
      "File \u001b[1;32mc:\\Users\\User\\anaconda3\\Lib\\site-packages\\mysql\\connector\\cursor_cext.py:303\u001b[0m, in \u001b[0;36mCMySQLCursor.execute\u001b[1;34m(self, operation, params, multi)\u001b[0m\n\u001b[0;32m    301\u001b[0m \u001b[39mexcept\u001b[39;00m (ProgrammingError, \u001b[39mReferenceError\u001b[39;00m) \u001b[39mas\u001b[39;00m err:\n\u001b[0;32m    302\u001b[0m     \u001b[39mraise\u001b[39;00m ProgrammingError(\u001b[39m\"\u001b[39m\u001b[39mCursor is not connected\u001b[39m\u001b[39m\"\u001b[39m, \u001b[39m2055\u001b[39m) \u001b[39mfrom\u001b[39;00m \u001b[39merr\u001b[39;00m\n\u001b[1;32m--> 303\u001b[0m \u001b[39mself\u001b[39m\u001b[39m.\u001b[39m_cnx\u001b[39m.\u001b[39mhandle_unread_result()\n\u001b[0;32m    305\u001b[0m stmt \u001b[39m=\u001b[39m \u001b[39m\"\u001b[39m\u001b[39m\"\u001b[39m\n\u001b[0;32m    306\u001b[0m \u001b[39mself\u001b[39m\u001b[39m.\u001b[39mreset()\n",
      "File \u001b[1;32mc:\\Users\\User\\anaconda3\\Lib\\site-packages\\mysql\\connector\\connection_cext.py:955\u001b[0m, in \u001b[0;36mCMySQLConnection.handle_unread_result\u001b[1;34m(self, prepared)\u001b[0m\n\u001b[0;32m    953\u001b[0m     \u001b[39mself\u001b[39m\u001b[39m.\u001b[39mconsume_results()\n\u001b[0;32m    954\u001b[0m \u001b[39melif\u001b[39;00m unread_result:\n\u001b[1;32m--> 955\u001b[0m     \u001b[39mraise\u001b[39;00m InternalError(\u001b[39m\"\u001b[39m\u001b[39mUnread result found\u001b[39m\u001b[39m\"\u001b[39m)\n",
      "\u001b[1;31mInternalError\u001b[0m: Unread result found"
     ]
    }
   ],
   "source": [
    "# Chemin vers le fichier CSV\n",
    "csv_file_path = \"Produits - Feuille 1.csv\"\n",
    "\n",
    "# Établir une connexion à la base de données\n",
    "conn = mysql.connector.connect(\n",
    "    host=host,\n",
    "    user=user,\n",
    "    password=password,\n",
    "    database=database_name\n",
    ")\n",
    "\n",
    "# Créer un curseur pour exécuter des requêtes SQL\n",
    "cursor = conn.cursor()\n",
    "\n",
    "# Lecture du fichier CSV et insertion des données dans la table\n",
    "with open(csv_file_path, \"r\", newline=\"\") as csv_file:\n",
    "    csv_reader = csv.reader(csv_file)\n",
    "    next(csv_reader)  # Ignorer la première ligne si elle contient les en-têtes\n",
    "\n",
    "    for row in csv_reader:\n",
    "\n",
    "        # Insérer les données dans la table MySQL\n",
    "        insert_conditions = \"INSERT IGNORE INTO conditions (contenant_produit) VALUES (%s)\"\n",
    "        # Remplacez \"nom_de_la_table\" et les colonnes par les valeurs appropriées\n",
    "\n",
    "        # Exécution de la requête d'insertion\n",
    "        cursor.execute(insert_conditions, (row[3],))\n",
    "    \n",
    "         # Insérer les données dans la table MySQL\n",
    "        insert_famille_article = \"INSERT IGNORE INTO famille_article (famille_produit) VALUES (%s)\"\n",
    "        # Remplacez \"nom_de_la_table\" et les colonnes par les valeurs appropriées\n",
    "\n",
    "        # Exécution de la requête d'insertion\n",
    "        cursor.execute(insert_famille_article, (row[2],))\n",
    "\n",
    "        select_id_condition = f\"SELECT id FROM conditions WHERE contenant_produit = %s\"\n",
    "\n",
    "        cursor.execute(select_id_condition, (row[3],))\n",
    "    \n",
    "        conditions_id = cursor.fetchone()[0]\n",
    "\n",
    "        print(f\"Voici les conditions:{conditions_id}\")\n",
    "    \n",
    "        select_id_famille_article = f\"SELECT id FROM famille_article WHERE famille_produit = %s\"\n",
    "\n",
    "        cursor.execute(select_id_famille_article, (row[2],))\n",
    "\n",
    "        famille_article_id = cursor.fetchone()[0]\n",
    "        \n",
    "        print(f\"voici les famille: {famille_article_id}\")\n",
    "    \n",
    "         # Insérer les données dans la table MySQL\n",
    "        insert_produit = \"INSERT INTO produit (code_article, libelle_article, famille_article_id, condition_id, pu_ht) VALUES (%s, %s, %s, %s, %s)\"\n",
    "        # Remplacez \"nom_de_la_table\" et les colonnes par les valeurs appropriées\n",
    "\n",
    "        # Exécution de la requête d'insertion\n",
    "        cursor.execute(insert_produit, (row[0],row[1],famille_article_id,conditions_id,row[4]))\n",
    "\n",
    "# Valider les modifications dans la base de données\n",
    "conn.commit()\n",
    "\n",
    "# Fermer le curseur et la connexion\n",
    "cursor.close()\n",
    "conn.close()\n",
    "\n",
    "print(\"Les données du fichier CSV ont été insérées avec succès dans la base de données.\")\n"
   ]
  },
  {
   "cell_type": "code",
   "execution_count": null,
   "metadata": {},
   "outputs": [],
   "source": [
    "import pandas as pd"
   ]
  },
  {
   "cell_type": "code",
   "execution_count": null,
   "metadata": {},
   "outputs": [
    {
     "data": {
      "text/html": [
       "<div>\n",
       "<style scoped>\n",
       "    .dataframe tbody tr th:only-of-type {\n",
       "        vertical-align: middle;\n",
       "    }\n",
       "\n",
       "    .dataframe tbody tr th {\n",
       "        vertical-align: top;\n",
       "    }\n",
       "\n",
       "    .dataframe thead th {\n",
       "        text-align: right;\n",
       "    }\n",
       "</style>\n",
       "<table border=\"1\" class=\"dataframe\">\n",
       "  <thead>\n",
       "    <tr style=\"text-align: right;\">\n",
       "      <th></th>\n",
       "      <th>Code article</th>\n",
       "      <th>LIBELLE ARTICLE</th>\n",
       "      <th>FAMILLE ARTICLE</th>\n",
       "      <th>CONDITION</th>\n",
       "      <th>PU HT</th>\n",
       "    </tr>\n",
       "  </thead>\n",
       "  <tbody>\n",
       "    <tr>\n",
       "      <th>0</th>\n",
       "      <td>1010</td>\n",
       "      <td>HUILE ARACHIDE 25 L</td>\n",
       "      <td>HUILES</td>\n",
       "      <td>BIDON</td>\n",
       "      <td>60,71</td>\n",
       "    </tr>\n",
       "    <tr>\n",
       "      <th>1</th>\n",
       "      <td>1011</td>\n",
       "      <td>HUILE ARACHIDE 5 L</td>\n",
       "      <td>HUILES</td>\n",
       "      <td>BIDON</td>\n",
       "      <td>14,33</td>\n",
       "    </tr>\n",
       "    <tr>\n",
       "      <th>2</th>\n",
       "      <td>1012</td>\n",
       "      <td>HUILE ARACHIDE 1 L</td>\n",
       "      <td>HUILES</td>\n",
       "      <td>BOUTE</td>\n",
       "      <td>2,87</td>\n",
       "    </tr>\n",
       "    <tr>\n",
       "      <th>3</th>\n",
       "      <td>1014</td>\n",
       "      <td>HUILE MEZZO 1 L (50%OLIVE50%TOURNESOL)</td>\n",
       "      <td>HUILES</td>\n",
       "      <td>BOUTE</td>\n",
       "      <td>2,67</td>\n",
       "    </tr>\n",
       "    <tr>\n",
       "      <th>4</th>\n",
       "      <td>1015</td>\n",
       "      <td>HUILE COLZA 5 L</td>\n",
       "      <td>HUILES</td>\n",
       "      <td>BIDON</td>\n",
       "      <td>7,57</td>\n",
       "    </tr>\n",
       "    <tr>\n",
       "      <th>...</th>\n",
       "      <td>...</td>\n",
       "      <td>...</td>\n",
       "      <td>...</td>\n",
       "      <td>...</td>\n",
       "      <td>...</td>\n",
       "    </tr>\n",
       "    <tr>\n",
       "      <th>1858</th>\n",
       "      <td>35885</td>\n",
       "      <td>QUICHES LORRAINE 180G X14</td>\n",
       "      <td>SURGELES</td>\n",
       "      <td>CARTO</td>\n",
       "      <td>17,50</td>\n",
       "    </tr>\n",
       "    <tr>\n",
       "      <th>1859</th>\n",
       "      <td>35900</td>\n",
       "      <td>FARCIS NICOIS SG - SAC 2KG</td>\n",
       "      <td>SURGELES</td>\n",
       "      <td>CARTO</td>\n",
       "      <td>51,52</td>\n",
       "    </tr>\n",
       "    <tr>\n",
       "      <th>1860</th>\n",
       "      <td>35920</td>\n",
       "      <td>RAVIOLIS A LA NICOISE SG 2KG</td>\n",
       "      <td>SURGELES</td>\n",
       "      <td>SAC</td>\n",
       "      <td>40,90</td>\n",
       "    </tr>\n",
       "    <tr>\n",
       "      <th>1861</th>\n",
       "      <td>37718</td>\n",
       "      <td>COOKIES CHOCOLAT SG 76G X30</td>\n",
       "      <td>SURGELES</td>\n",
       "      <td>CARTO</td>\n",
       "      <td>29,65</td>\n",
       "    </tr>\n",
       "    <tr>\n",
       "      <th>1862</th>\n",
       "      <td>37720</td>\n",
       "      <td>COOKIES 3 CHOC LAIT EMB.INDIV.106GX30 SG</td>\n",
       "      <td>SURGELES</td>\n",
       "      <td>CARTO</td>\n",
       "      <td>32,75</td>\n",
       "    </tr>\n",
       "  </tbody>\n",
       "</table>\n",
       "<p>1863 rows × 5 columns</p>\n",
       "</div>"
      ],
      "text/plain": [
       "      Code article                           LIBELLE ARTICLE FAMILLE ARTICLE  \\\n",
       "0             1010                       HUILE ARACHIDE 25 L          HUILES   \n",
       "1             1011                        HUILE ARACHIDE 5 L          HUILES   \n",
       "2             1012                        HUILE ARACHIDE 1 L          HUILES   \n",
       "3             1014    HUILE MEZZO 1 L (50%OLIVE50%TOURNESOL)          HUILES   \n",
       "4             1015                           HUILE COLZA 5 L          HUILES   \n",
       "...            ...                                       ...             ...   \n",
       "1858         35885                 QUICHES LORRAINE 180G X14        SURGELES   \n",
       "1859         35900                FARCIS NICOIS SG - SAC 2KG        SURGELES   \n",
       "1860         35920              RAVIOLIS A LA NICOISE SG 2KG        SURGELES   \n",
       "1861         37718               COOKIES CHOCOLAT SG 76G X30        SURGELES   \n",
       "1862         37720  COOKIES 3 CHOC LAIT EMB.INDIV.106GX30 SG        SURGELES   \n",
       "\n",
       "     CONDITION  PU HT  \n",
       "0        BIDON  60,71  \n",
       "1        BIDON  14,33  \n",
       "2        BOUTE   2,87  \n",
       "3        BOUTE   2,67  \n",
       "4        BIDON   7,57  \n",
       "...        ...    ...  \n",
       "1858     CARTO  17,50  \n",
       "1859     CARTO  51,52  \n",
       "1860       SAC  40,90  \n",
       "1861     CARTO  29,65  \n",
       "1862     CARTO  32,75  \n",
       "\n",
       "[1863 rows x 5 columns]"
      ]
     },
     "execution_count": 7,
     "metadata": {},
     "output_type": "execute_result"
    }
   ],
   "source": [
    "\"\"\" produit = pd.read_csv(\"Produits - Feuille 1.csv\")\n",
    "produit \"\"\""
   ]
  },
  {
   "cell_type": "code",
   "execution_count": null,
   "metadata": {},
   "outputs": [
    {
     "name": "stdout",
     "output_type": "stream",
     "text": [
      "<class 'pandas.core.frame.DataFrame'>\n",
      "RangeIndex: 1863 entries, 0 to 1862\n",
      "Data columns (total 5 columns):\n",
      " #   Column           Non-Null Count  Dtype  \n",
      "---  ------           --------------  -----  \n",
      " 0   Code article     1863 non-null   int64  \n",
      " 1   LIBELLE ARTICLE  1863 non-null   object \n",
      " 2   FAMILLE ARTICLE  1863 non-null   object \n",
      " 3   CONDITION        1863 non-null   object \n",
      " 4   PU HT            1863 non-null   float64\n",
      "dtypes: float64(1), int64(1), object(3)\n",
      "memory usage: 72.9+ KB\n"
     ]
    }
   ],
   "source": [
    "\"\"\" produit.info() \"\"\""
   ]
  },
  {
   "cell_type": "code",
   "execution_count": null,
   "metadata": {},
   "outputs": [
    {
     "data": {
      "text/plain": [
       "0       60.71\n",
       "1       14.33\n",
       "2        2.87\n",
       "3        2.67\n",
       "4        7.57\n",
       "        ...  \n",
       "1858    17.50\n",
       "1859    51.52\n",
       "1860    40.90\n",
       "1861    29.65\n",
       "1862    32.75\n",
       "Name: PU HT, Length: 1863, dtype: object"
      ]
     },
     "execution_count": 15,
     "metadata": {},
     "output_type": "execute_result"
    }
   ],
   "source": [
    "\"\"\" produit[\"PU HT\"] = produit[\"PU HT\"].str.replace(\",\",\".\")\n",
    "produit[\"PU HT\"] \"\"\""
   ]
  },
  {
   "cell_type": "code",
   "execution_count": null,
   "metadata": {},
   "outputs": [],
   "source": [
    "\"\"\" produit[\"PU HT\"] = produit[\"PU HT\"].astype(\"double\") \"\"\""
   ]
  },
  {
   "cell_type": "code",
   "execution_count": null,
   "metadata": {},
   "outputs": [],
   "source": [
    "\"\"\" produit.to_csv(\"Produits - Feuille 1.csv\", index=False) \"\"\""
   ]
  },
  {
   "cell_type": "code",
   "execution_count": null,
   "metadata": {},
   "outputs": [],
   "source": []
  },
  {
   "cell_type": "code",
   "execution_count": null,
   "metadata": {},
   "outputs": [],
   "source": []
  },
  {
   "cell_type": "code",
   "execution_count": null,
   "metadata": {},
   "outputs": [],
   "source": []
  }
 ],
 "metadata": {
  "kernelspec": {
   "display_name": "base",
   "language": "python",
   "name": "python3"
  },
  "language_info": {
   "codemirror_mode": {
    "name": "ipython",
    "version": 3
   },
   "file_extension": ".py",
   "mimetype": "text/x-python",
   "name": "python",
   "nbconvert_exporter": "python",
   "pygments_lexer": "ipython3",
   "version": "3.11.4"
  },
  "orig_nbformat": 4
 },
 "nbformat": 4,
 "nbformat_minor": 2
}
