{
 "cells": [
  {
   "cell_type": "code",
   "execution_count": 38,
   "metadata": {},
   "outputs": [
    {
     "data": {
      "text/plain": [
       "(18846,)"
      ]
     },
     "execution_count": 38,
     "metadata": {},
     "output_type": "execute_result"
    }
   ],
   "source": [
    "from sklearn.datasets import fetch_20newsgroups,fetch_openml\n",
    "import pandas as pd\n",
    "from ydata_profiling import ProfileReport # conda install -c conda-forge ydata-profiling\n",
    "from pprint import pprint\n",
    "\n",
    "# newsgroups = list(fetch_20newsgroups(subset='all'))\n",
    "# 0\n",
    "# 0\tdata : list of shape (n_samples,)          The data list to learn.\n",
    "# 1\tfilenames : list of shape (n_samples,)     The path to the location of the data.\n",
    "# 2\ttarget_names : list of shape (n_classes,)  The names of target classes. (Nom du topic)\n",
    "# 3\ttarget : ndarray of shape (n_samples,)     The target labels. (Numéro associé au topic)\n",
    "# 4\tDESCR : str                                The full description of the dataset.\n",
    "\n",
    "newsgroups = fetch_20newsgroups(subset='all')\n",
    "df = pd.DataFrame([newsgroups.data, newsgroups.target.tolist()]).T\n",
    "df.columns = ['text', 'target']\n",
    "\n",
    "df.to_csv('20_newsgroup.csv')\n",
    "\n",
    "targets = pd.DataFrame( newsgroups.target_names)\n",
    "# targets.columns=['title']\n",
    "\n",
    "# out = pd.merge(df, targets, left_on='target', right_index=True)\n",
    "# out['date'] = pd.to_datetime('now')\n",
    "# out.to_csv('20_newsgroup.csv')\n",
    "\n",
    "# profile = ProfileReport(df,title=\"20news Profiling Report\")\n",
    "# profile.to_notebook_iframe() \n",
    "# profile.to_file(\"report.html\")"
   ]
  }
 ],
 "metadata": {
  "kernelspec": {
   "display_name": "base",
   "language": "python",
   "name": "python3"
  },
  "language_info": {
   "codemirror_mode": {
    "name": "ipython",
    "version": 3
   },
   "file_extension": ".py",
   "mimetype": "text/x-python",
   "name": "python",
   "nbconvert_exporter": "python",
   "pygments_lexer": "ipython3",
   "version": "3.9.18"
  }
 },
 "nbformat": 4,
 "nbformat_minor": 2
}
