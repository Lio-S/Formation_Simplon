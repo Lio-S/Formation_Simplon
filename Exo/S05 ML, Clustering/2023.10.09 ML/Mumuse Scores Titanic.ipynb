{
 "cells": [
  {
   "cell_type": "code",
   "execution_count": 133,
   "metadata": {},
   "outputs": [],
   "source": [
    "import pandas as pd\n",
    "import matplotlib.pyplot as plt\n",
    "import seaborn as sns\n",
    "import numpy as np\n",
    "\n",
    "\n",
    "from os.path import join\n",
    "from sklearn.impute import SimpleImputer\n",
    "from sklearn.model_selection import train_test_split, cross_validate, GridSearchCV\n",
    "from sklearn.preprocessing import StandardScaler\n",
    "from sklearn.linear_model import LogisticRegression , Perceptron, LinearRegression\n",
    "from sklearn.datasets import make_regression\n",
    "from sklearn.metrics import classification_report, accuracy_score\n",
    "from sklearn.svm import SVC\n",
    "\n",
    "# Charger les données\n",
    "# df = pd.read_csv(join(\"..\",\"data\",\"titanic.csv\") )\n",
    "df = pd.read_csv('titanic.csv')"
   ]
  },
  {
   "cell_type": "code",
   "execution_count": 130,
   "metadata": {},
   "outputs": [],
   "source": [
    "# Nettoyage Fichier:\n",
    "# Remplacer les valeurs nulles de la colonne \"age\" par la moyenne de la colonne\n",
    "df[\"Age\"] = df[\"Age\"].fillna(df[\"Age\"].mean())\n",
    "# Supprimer la colonne \"name\" et \"passengerid\" car elles ne servent à rien pour du ML\n",
    "df = df.drop([\"Name\",\"PassengerId\",\"Cabin\",\"Ticket\"], axis=1)\n",
    "# Créer des colonnes hot encoder pour les données catégorielles\n",
    "categorical_columns = [\"Sex\", \"Embarked\"]\n",
    "for column in categorical_columns:\n",
    "    df = pd.get_dummies(df, columns=[column])"
   ]
  },
  {
   "cell_type": "code",
   "execution_count": 131,
   "metadata": {},
   "outputs": [
    {
     "data": {
      "text/plain": [
       "((712, 10), (179, 10), (712,), (179,))"
      ]
     },
     "execution_count": 131,
     "metadata": {},
     "output_type": "execute_result"
    }
   ],
   "source": [
    "# Séparer les données en données d'entraînement, de validation et de test\n",
    "X_train, X_test, y_train, y_test = train_test_split(df.drop(columns=[\"Survived\"]), df[\"Survived\"], test_size=0.2, random_state=42)\n",
    "X_train.shape,X_test.shape, y_train.shape, y_test.shape"
   ]
  },
  {
   "cell_type": "code",
   "execution_count": null,
   "metadata": {},
   "outputs": [],
   "source": [
    "df_RegressionLogistique()"
   ]
  },
  {
   "cell_type": "code",
   "execution_count": 132,
   "metadata": {},
   "outputs": [
    {
     "name": "stdout",
     "output_type": "stream",
     "text": [
      "Régression logistique :\n",
      "Accuracy: 0.8100558659217877\n",
      "               precision    recall  f1-score   support\n",
      "\n",
      "    Survivant       0.83      0.86      0.84       105\n",
      "Non-survivant       0.79      0.74      0.76        74\n",
      "\n",
      "     accuracy                           0.81       179\n",
      "    macro avg       0.81      0.80      0.80       179\n",
      " weighted avg       0.81      0.81      0.81       179\n",
      "\n",
      "Machine à Vecteurs de Support :\n",
      "Accuracy: 0.8212290502793296\n",
      "               precision    recall  f1-score   support\n",
      "\n",
      "    Survivant       0.81      0.90      0.86       105\n",
      "Non-survivant       0.84      0.70      0.76        74\n",
      "\n",
      "     accuracy                           0.82       179\n",
      "    macro avg       0.83      0.80      0.81       179\n",
      " weighted avg       0.82      0.82      0.82       179\n",
      "\n",
      "Perceptron :\n",
      "Accuracy: 0.770949720670391\n",
      "               precision    recall  f1-score   support\n",
      "\n",
      "    Survivant       0.80      0.81      0.81       105\n",
      "Non-survivant       0.73      0.72      0.72        74\n",
      "\n",
      "     accuracy                           0.77       179\n",
      "    macro avg       0.76      0.76      0.76       179\n",
      " weighted avg       0.77      0.77      0.77       179\n",
      "\n"
     ]
    }
   ],
   "source": [
    "# Normaliser les données numériques\n",
    "scaler = StandardScaler()\n",
    "X_train = scaler.fit_transform(X_train)\n",
    "X_test = scaler.transform(X_test)\n",
    "\n",
    "# Imputer les valeurs manquantes\n",
    "imputer = SimpleImputer(strategy=\"mean\")\n",
    "X_train = imputer.fit_transform(X_train)\n",
    "X_test = imputer.transform(X_test)\n",
    "for i in [1,2,3] :\n",
    "    if i == 1 :\n",
    "        # Entraîner un modèle de régression logistique\n",
    "        model = LogisticRegression(solver=\"lbfgs\", max_iter=1000)\n",
    "        model.fit(X_train, y_train)\n",
    "        # Prédictions sur les données de test\n",
    "        y_pred = model.predict(X_test)\n",
    "        # Calculer le rapport de classification\n",
    "        report = classification_report(y_test, y_pred, target_names=[\"Survivant\", \"Non-survivant\"])\n",
    "        # Afficher le rapport de classification\n",
    "        print(\"Régression logistique :\")\n",
    "        # Prédisez les étiquettes sur l'ensemble de test\n",
    "        y_pred_logistic = model.predict(X_test)\n",
    "        # Évaluez les performances du modèle\n",
    "        accuracy = accuracy_score(y_test, y_pred_logistic)\n",
    "        # Affichez l'exactitude et le rapport de classification\n",
    "        print(f\"Accuracy: {accuracy}\")\n",
    "        print(report)\n",
    "    if i == 2 :\n",
    "        # Entraîner un modèle de Machine à Vecteurs de Support\n",
    "        model = SVC(decision_function_shape='ovo')\n",
    "        model.fit(X_train, y_train)\n",
    "        # Prédictions sur les données de test\n",
    "        y_pred = model.predict(X_test)\n",
    "        # Calculer le rapport de classification\n",
    "        report = classification_report(y_test, y_pred, target_names=[\"Survivant\", \"Non-survivant\"])\n",
    "        # Afficher le rapport de classification\n",
    "        print(\"Machine à Vecteurs de Support :\")\n",
    "        # Prédisez les étiquettes sur l'ensemble de test\n",
    "        y_pred_SVM = model.predict(X_test)\n",
    "        # Évaluez les performances du modèle\n",
    "        accuracy = accuracy_score(y_test, y_pred_SVM)\n",
    "        # Affichez l'exactitude et le rapport de classification\n",
    "        print(f\"Accuracy: {accuracy}\")\n",
    "        print(report)\n",
    "    if i == 3 :\n",
    "        # Entraîner un modèle de régression logistique\n",
    "        model = Perceptron(tol=1e-3, random_state=0)\n",
    "        model.fit(X_train, y_train)\n",
    "        # Prédictions sur les données de test\n",
    "        y_pred = model.predict(X_test)\n",
    "        # Calculer le rapport de classification\n",
    "        report = classification_report(y_test, y_pred, target_names=[\"Survivant\", \"Non-survivant\"])\n",
    "        # Afficher le rapport de classification\n",
    "        print(\"Perceptron :\")\n",
    "        # Prédisez les étiquettes sur l'ensemble de test\n",
    "        y_pred_Perceptron = model.predict(X_test)\n",
    "        # Évaluez les performances du modèle\n",
    "        accuracy = accuracy_score(y_test, y_pred_Perceptron)\n",
    "        # Affichez l'exactitude et le rapport de classification\n",
    "        print(f\"Accuracy: {accuracy}\")\n",
    "        print(report)"
   ]
  }
 ],
 "metadata": {
  "kernelspec": {
   "display_name": "base",
   "language": "python",
   "name": "python3"
  },
  "language_info": {
   "codemirror_mode": {
    "name": "ipython",
    "version": 3
   },
   "file_extension": ".py",
   "mimetype": "text/x-python",
   "name": "python",
   "nbconvert_exporter": "python",
   "pygments_lexer": "ipython3",
   "version": "3.9.18"
  }
 },
 "nbformat": 4,
 "nbformat_minor": 2
}
