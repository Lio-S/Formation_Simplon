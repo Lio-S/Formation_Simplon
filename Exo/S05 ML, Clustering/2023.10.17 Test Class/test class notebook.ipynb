{
 "cells": [
  {
   "cell_type": "code",
   "execution_count": 39,
   "metadata": {},
   "outputs": [],
   "source": [
    "class Voiture():\n",
    "    def __init__(self, marque, modèle, vitesse, moteur,couleur):\n",
    "        self.__marque = marque\n",
    "        self.__modèle = modèle\n",
    "        self.__vitesse = vitesse\n",
    "        self.__moteur = moteur\n",
    "        self.__couleur = couleur\n",
    "\n",
    "         ##################### Getter\n",
    "        @property\n",
    "        def marque() :\n",
    "            print(f\"G: La Marque de la voiture est {self.marque}\")\n",
    "            return self.__marque\n",
    "        \n",
    "        @property\n",
    "        def modèle() :\n",
    "            print(f\"G: Le modèle de la voiture est {self.modèle}\")\n",
    "            return self.__modèle\n",
    "        \n",
    "        @property\n",
    "        def vitesse() :\n",
    "            print(f\"G: La vitesse de la voiture est {self.vitesse}\")\n",
    "            return self.__vitesse\n",
    "        \n",
    "        @property\n",
    "        def moteur() :\n",
    "            print(f\"G: Le moteur de la voiture est {self.moteur}\")\n",
    "            return self.__moteur\n",
    "        \n",
    "        @property\n",
    "        def couleur() :\n",
    "            print(f\"G: La couleur de la voiture est {self.marque}\")\n",
    "            return self.__couleur\n",
    "        \n",
    "        ####################### Setter\n",
    "        @marque.setter\n",
    "        def marque(self, Marque_Test):\n",
    "            print(f\"S: La Marque de la voiture est {self.marque}\")\n",
    "            self.__marque = Marque_Test\n",
    "\n",
    "        @modèle.setter\n",
    "        def modèle(self, modèle_Test):\n",
    "            print(f\"S: Le modèle de la voiture est {self.modèle}\")\n",
    "            self.__modèle = modèle_Test\n",
    "\n",
    "        @vitesse.setter\n",
    "        def vitesse(self, vitesse_Test):\n",
    "            print(f\"S: La Marque de la voiture est {self.vitesse}\")\n",
    "            self.__vitesse = vitesse_Test\n",
    "            \n",
    "        @moteur.setter\n",
    "        def moteur(self, moteur_Test):\n",
    "            print(f\"S: L moteur de la voiture est {self.marque}\")\n",
    "            self.__moteur = moteur_Test\n",
    "            \n",
    "        @couleur.setter\n",
    "        def marque(self, couleur_Test):\n",
    "            print(f\"S: La Marque de la voiture est {self.couleur}\")\n",
    "            self.__couleur = couleur_Test\n",
    " \n",
    "    def accélérer(self,pas):\n",
    "        self.__vitesse += pas\n",
    " \n",
    "    def afficher_vitesse(self):\n",
    "        print(f\"La vitesse de la voiture est de {self.__vitesse} km/h.\")\n",
    " "
   ]
  },
  {
   "cell_type": "code",
   "execution_count": 40,
   "metadata": {},
   "outputs": [
    {
     "name": "stdout",
     "output_type": "stream",
     "text": [
      "La vitesse de la voiture est de 11 km/h.\n",
      "La vitesse de la voiture est de 122 km/h.\n"
     ]
    }
   ],
   "source": [
    "ma_voiture = Voiture(\"Tesla\", \"Model S\", 0, \"électrique\", \"Jaune\")\n",
    "pas = 11\n",
    "ma_voiture.accélérer(pas)\n",
    "ma_voiture.afficher_vitesse()\n",
    "pas = 111\n",
    "ma_voiture.accélérer(pas)\n",
    "ma_voiture.afficher_vitesse() "
   ]
  },
  {
   "cell_type": "code",
   "execution_count": 41,
   "metadata": {},
   "outputs": [
    {
     "ename": "SyntaxError",
     "evalue": "invalid syntax (4224485142.py, line 1)",
     "output_type": "error",
     "traceback": [
      "\u001b[1;36m  Cell \u001b[1;32mIn[41], line 1\u001b[1;36m\u001b[0m\n\u001b[1;33m    ma_voiture.\u001b[0m\n\u001b[1;37m               ^\u001b[0m\n\u001b[1;31mSyntaxError\u001b[0m\u001b[1;31m:\u001b[0m invalid syntax\n"
     ]
    }
   ],
   "source": [
    "ma_voiture."
   ]
  }
 ],
 "metadata": {
  "kernelspec": {
   "display_name": "base",
   "language": "python",
   "name": "python3"
  },
  "language_info": {
   "codemirror_mode": {
    "name": "ipython",
    "version": 3
   },
   "file_extension": ".py",
   "mimetype": "text/x-python",
   "name": "python",
   "nbconvert_exporter": "python",
   "pygments_lexer": "ipython3",
   "version": "3.9.18"
  }
 },
 "nbformat": 4,
 "nbformat_minor": 2
}
