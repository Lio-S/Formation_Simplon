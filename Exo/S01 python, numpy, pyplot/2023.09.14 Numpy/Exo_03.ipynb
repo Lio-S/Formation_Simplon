{
 "cells": [
  {
   "cell_type": "markdown",
   "metadata": {},
   "source": [
    "3. Créez une fonction qui prend un tableau NumPy en entrée et renvoie la somme de ses éléments."
   ]
  },
  {
   "cell_type": "code",
   "execution_count": 2,
   "metadata": {},
   "outputs": [],
   "source": [
    "import numpy as np"
   ]
  },
  {
   "cell_type": "code",
   "execution_count": 14,
   "metadata": {},
   "outputs": [
    {
     "name": "stdout",
     "output_type": "stream",
     "text": [
      "[0.  0.2 0.4 0.6 0.8]\n",
      "2.0\n"
     ]
    }
   ],
   "source": [
    "Float_Array= np.linspace(0,1,5,endpoint=False,dtype=float)\n",
    "Somme = 0\n",
    "def Somme_(Tableau_np) :\n",
    "    Somme = sum(Tableau_np)\n",
    "    return Somme\n",
    "Somme =Somme_(Float_Array)\n",
    "print(Float_Array)\n",
    "print(Somme)"
   ]
  }
 ],
 "metadata": {
  "kernelspec": {
   "display_name": "base",
   "language": "python",
   "name": "python3"
  },
  "language_info": {
   "codemirror_mode": {
    "name": "ipython",
    "version": 3
   },
   "file_extension": ".py",
   "mimetype": "text/x-python",
   "name": "python",
   "nbconvert_exporter": "python",
   "pygments_lexer": "ipython3",
   "version": "3.9.16"
  },
  "orig_nbformat": 4
 },
 "nbformat": 4,
 "nbformat_minor": 2
}
