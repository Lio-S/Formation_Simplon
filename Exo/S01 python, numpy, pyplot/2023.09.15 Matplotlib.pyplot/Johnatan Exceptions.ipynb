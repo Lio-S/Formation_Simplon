{
 "cells": [
  {
   "cell_type": "code",
   "execution_count": 3,
   "metadata": {},
   "outputs": [
    {
     "name": "stdout",
     "output_type": "stream",
     "text": [
      "2 / 4 = 0.5\n",
      "Calcule effectue\n",
      "Finally\n",
      "Après le bloc Try\n",
      "FILE:  Test sur erreur\n",
      "\n",
      "Erreur:  not writable\n",
      "On a fermé le fichier\n"
     ]
    }
   ],
   "source": [
    "try:\n",
    "    num_1 = input('Choisissez le dividende: ')\n",
    "    num_2 = input('Choisissez le diviseur: ')\n",
    "\n",
    "    result = int(num_1) / int(num_2)\n",
    "    print(f\"{num_1} / {num_2} = {result}\")\n",
    "\n",
    "except (ZeroDivisionError):\n",
    "    print('On ne peux pas diviser par zero')\n",
    "except (Exception) as e:\n",
    "    print('Erreur: ', e)\n",
    "else:\n",
    "    print('Calcule effectue')\n",
    "finally:\n",
    "    print('Finally')\n",
    "\n",
    "print('Après le bloc Try')\n",
    "# **************************************\n",
    "try:\n",
    "    txt = open('Readme.md', 'r')\n",
    "    print(\"FILE: \", txt.readline())\n",
    "    print(\"\")\n",
    "    txt.write(\"TEST 02\")\n",
    "    txt.close()\n",
    "except Exception as e:\n",
    "    print('Erreur: ', e)\n",
    "finally:\n",
    "    txt.close()\n",
    "    print('On a fermé le fichier')"
   ]
  }
 ],
 "metadata": {
  "kernelspec": {
   "display_name": "base",
   "language": "python",
   "name": "python3"
  },
  "language_info": {
   "codemirror_mode": {
    "name": "ipython",
    "version": 3
   },
   "file_extension": ".py",
   "mimetype": "text/x-python",
   "name": "python",
   "nbconvert_exporter": "python",
   "pygments_lexer": "ipython3",
   "version": "3.9.16"
  },
  "orig_nbformat": 4
 },
 "nbformat": 4,
 "nbformat_minor": 2
}
