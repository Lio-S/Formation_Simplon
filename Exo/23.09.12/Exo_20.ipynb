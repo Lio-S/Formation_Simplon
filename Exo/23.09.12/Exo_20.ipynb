{
 "cells": [
  {
   "cell_type": "markdown",
   "metadata": {},
   "source": [
    "20. Écrivez un programme qui demande à l'utilisateur de saisir un mot et affiche si ce mot contient plus de 5 caractères en utilisant une boucle \"while\"."
   ]
  },
  {
   "cell_type": "code",
   "execution_count": 6,
   "metadata": {},
   "outputs": [
    {
     "name": "stdout",
     "output_type": "stream",
     "text": [
      "Ce mot contient moins de 6 caractères\n",
      "Ce mot contient plus de 5 caractères\n"
     ]
    }
   ],
   "source": [
    "while True :\n",
    "    ret = input(\"Saisir un mot de plus de 5 caractères\")\n",
    "    if len(ret)>5 :\n",
    "        print(\"Ce mot contient plus de 5 caractères\")\n",
    "        break\n",
    "    else :\n",
    "        print(\"Ce mot contient moins de 6 caractères\")"
   ]
  }
 ],
 "metadata": {
  "kernelspec": {
   "display_name": "Python 3",
   "language": "python",
   "name": "python3"
  },
  "language_info": {
   "codemirror_mode": {
    "name": "ipython",
    "version": 3
   },
   "file_extension": ".py",
   "mimetype": "text/x-python",
   "name": "python",
   "nbconvert_exporter": "python",
   "pygments_lexer": "ipython3",
   "version": "3.11.3"
  },
  "orig_nbformat": 4
 },
 "nbformat": 4,
 "nbformat_minor": 2
}
