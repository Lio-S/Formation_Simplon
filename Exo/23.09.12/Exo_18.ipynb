{
 "cells": [
  {
   "cell_type": "markdown",
   "metadata": {},
   "source": [
    "18. Écrivez une fonction qui prend une liste de nombres en entrée et renvoie une nouvelle liste contenant uniquement les nombres positifs en utilisant une boucle \"while\".\n"
   ]
  },
  {
   "cell_type": "code",
   "execution_count": 25,
   "metadata": {},
   "outputs": [
    {
     "name": "stdout",
     "output_type": "stream",
     "text": [
      "[2]\n"
     ]
    }
   ],
   "source": [
    "i=0\n",
    "Indice=0\n",
    "Nombre_de_nombre = int(input(\"Entrez le nombre de nombre à traiter : \"))\n",
    "Nombres_Sorties = [0 for y in range(Nombre_de_nombre)]\n",
    "\n",
    "while (i < (Nombre_de_nombre)) :\n",
    "    Ret= int(input(\"Tapez un nombre\"))\n",
    "    if Ret > 0 :\n",
    "        Nombres_Sorties[Indice] = Ret \n",
    "        Indice+=1\n",
    "    else :\n",
    "        del(Nombres_Sorties[-1])\n",
    "    i+=1\n",
    "print(Nombres_Sorties)"
   ]
  }
 ],
 "metadata": {
  "kernelspec": {
   "display_name": "base",
   "language": "python",
   "name": "python3"
  },
  "language_info": {
   "codemirror_mode": {
    "name": "ipython",
    "version": 3
   },
   "file_extension": ".py",
   "mimetype": "text/x-python",
   "name": "python",
   "nbconvert_exporter": "python",
   "pygments_lexer": "ipython3",
   "version": "3.11.3"
  },
  "orig_nbformat": 4
 },
 "nbformat": 4,
 "nbformat_minor": 2
}
