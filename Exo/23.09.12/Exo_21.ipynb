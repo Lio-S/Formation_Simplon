{
 "cells": [
  {
   "cell_type": "markdown",
   "metadata": {},
   "source": [
    "21. Écrivez une fonction qui prend un nombre entier en entrée et affiche la suite de Fibonacci jusqu'à l'ordre de ce nombre. La suite de Fibonacci est une séquence d'entiers où chaque nombre est la somme des deux nombres précédents. La séquence commence généralement par 0 et 1."
   ]
  },
  {
   "cell_type": "code",
   "execution_count": 1,
   "metadata": {},
   "outputs": [
    {
     "name": "stdout",
     "output_type": "stream",
     "text": [
      "\n",
      " la suite de fibonacci jusqu'au 22ème terme est : 0 , 1, 1, 2, 3, 5, 8, 13, 21, 34, 55, 89, 144, 233, 377, 610, 987, 1597, 2584, 4181, 6765, 10946, "
     ]
    }
   ],
   "source": [
    "Nombre_Stop = int(input(\"Saisir un nombre\"))\n",
    "\n",
    " \n",
    "n1 = 0\n",
    "n2 = 1\n",
    " \n",
    "print(\"\\n la suite de fibonacci jusqu'au\",Nombre_Stop,end=\"ème terme est : \")\n",
    "print(n1, \",\", n2, end=\", \")\n",
    " \n",
    "for i in range(2, Nombre_Stop):\n",
    "  suivant = n1 + n2\n",
    "  print(suivant, end=\", \")\n",
    " \n",
    "  n1 = n2\n",
    "  n2 = suivant"
   ]
  }
 ],
 "metadata": {
  "kernelspec": {
   "display_name": "Python 3",
   "language": "python",
   "name": "python3"
  },
  "language_info": {
   "codemirror_mode": {
    "name": "ipython",
    "version": 3
   },
   "file_extension": ".py",
   "mimetype": "text/x-python",
   "name": "python",
   "nbconvert_exporter": "python",
   "pygments_lexer": "ipython3",
   "version": "3.11.3"
  },
  "orig_nbformat": 4
 },
 "nbformat": 4,
 "nbformat_minor": 2
}
