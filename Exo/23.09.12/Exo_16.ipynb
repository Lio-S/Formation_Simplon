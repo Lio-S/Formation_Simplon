{
 "cells": [
  {
   "cell_type": "markdown",
   "metadata": {},
   "source": [
    "16. Écrivez un programme qui demande à l'utilisateur de deviner un nombre secret (par exemple 42). Le programme indique à l'utilisateur si le nombre à deviner est plus grand ou plus petit que sa proposition et continue de demander un nombre tant que l'utilisateur ne trouve pas le nombre secret. Une fois que l'utilisateur trouve le nombre secret, affichez un message de félicitations.\n"
   ]
  },
  {
   "cell_type": "code",
   "execution_count": 10,
   "metadata": {},
   "outputs": [
    {
     "name": "stdout",
     "output_type": "stream",
     "text": [
      "Le nombre secret est supérieur à  41\n",
      "Le nombre secret est supérieur à  41\n",
      "Bien joué\n"
     ]
    }
   ],
   "source": [
    "Ret=0\n",
    "while (int(Ret)!=42) :\n",
    "    if int(Ret)==42 :\n",
    "        exit\n",
    "    Ret = input(\"Devinez un nombre entre 1 et 1000 :\")\n",
    "    if int(Ret)<42 :\n",
    "        print(\"Le nombre secret est supérieur à \",Ret)\n",
    "    elif int(Ret)> 42 :\n",
    "        print(\"Le nombre secret est inférieur à \",Ret)\n",
    "    else :\n",
    "        print(\"Bien joué\") "
   ]
  }
 ],
 "metadata": {
  "kernelspec": {
   "display_name": "base",
   "language": "python",
   "name": "python3"
  },
  "language_info": {
   "codemirror_mode": {
    "name": "ipython",
    "version": 3
   },
   "file_extension": ".py",
   "mimetype": "text/x-python",
   "name": "python",
   "nbconvert_exporter": "python",
   "pygments_lexer": "ipython3",
   "version": "3.9.16"
  },
  "orig_nbformat": 4
 },
 "nbformat": 4,
 "nbformat_minor": 2
}
