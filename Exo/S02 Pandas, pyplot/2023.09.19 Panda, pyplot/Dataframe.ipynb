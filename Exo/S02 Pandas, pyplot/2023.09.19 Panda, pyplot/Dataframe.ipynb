{
 "cells": [
  {
   "cell_type": "markdown",
   "metadata": {},
   "source": [
    "#### Le data frame est un objet Python permettant de représenter les données sous forme de tableau, \n",
    "où chaque colonne est explicitement nommée. Il reprend les mêmes paradigmes que l’array NumPy :\n",
    "chaque colonne peut naturellement être d’un type différent, mais une colonne ne peut contenir qu’un seul type !\n",
    "Cette organisation simplifie l’accès aux variables, et permet de nombreuses manipulations de données plus ou moins complexes."
   ]
  },
  {
   "cell_type": "markdown",
   "metadata": {},
   "source": [
    "# *Import Fichiers*"
   ]
  },
  {
   "cell_type": "code",
   "execution_count": null,
   "metadata": {},
   "outputs": [],
   "source": [
    "import pandas as pd\n",
    "\n",
    "data_csv = pd.read_csv('clients.csv')      #Afin de faciliter l'import, placer les fichiers dans le même dossier que le projet\n",
    "data_csv\n",
    "# data_csv.head()             Permet de lire les cinq premières lignes d'un tableau (Il est également possible de préciser entre parenthèses le nombre de lignes à afficher, max 60)\n",
    "# data_csv.tail()             Permet de lire les cinq dernières lignes d'un tableau (Il est également possible de préciser entre parenthèses le nombre de lignes à afficher, max 60)"
   ]
  },
  {
   "cell_type": "markdown",
   "metadata": {},
   "source": [
    "# **Dataframe**"
   ]
  },
  {
   "cell_type": "code",
   "execution_count": 57,
   "metadata": {},
   "outputs": [
    {
     "name": "stdout",
     "output_type": "stream",
     "text": [
      "Test !!   colonne a  colonne b  colonne c\n",
      "0         a        -10 2013-01-01\n",
      "1         b          7 2013-01-02\n",
      "2         c         80 2013-01-03\n",
      "\n",
      "2 Index(['colonne a', 'colonne b', 'colonne c'], dtype='object')\n",
      "\n",
      "3 [['a' -10 Timestamp('2013-01-01 00:00:00')]\n",
      " ['b' 7 Timestamp('2013-01-02 00:00:00')]\n",
      " ['c' 80 Timestamp('2013-01-03 00:00:00')]]\n",
      "\n",
      "4 RangeIndex(start=0, stop=3, step=1)\n",
      "\n"
     ]
    },
    {
     "data": {
      "text/html": [
       "<div>\n",
       "<style scoped>\n",
       "    .dataframe tbody tr th:only-of-type {\n",
       "        vertical-align: middle;\n",
       "    }\n",
       "\n",
       "    .dataframe tbody tr th {\n",
       "        vertical-align: top;\n",
       "    }\n",
       "\n",
       "    .dataframe thead th {\n",
       "        text-align: right;\n",
       "    }\n",
       "</style>\n",
       "<table border=\"1\" class=\"dataframe\">\n",
       "  <thead>\n",
       "    <tr style=\"text-align: right;\">\n",
       "      <th></th>\n",
       "      <th>colonne a</th>\n",
       "      <th>colonne b</th>\n",
       "      <th>colonne c</th>\n",
       "    </tr>\n",
       "  </thead>\n",
       "  <tbody>\n",
       "    <tr>\n",
       "      <th>0</th>\n",
       "      <td>a</td>\n",
       "      <td>-10</td>\n",
       "      <td>2013-01-01</td>\n",
       "    </tr>\n",
       "    <tr>\n",
       "      <th>1</th>\n",
       "      <td>b</td>\n",
       "      <td>7</td>\n",
       "      <td>2013-01-02</td>\n",
       "    </tr>\n",
       "    <tr>\n",
       "      <th>2</th>\n",
       "      <td>c</td>\n",
       "      <td>80</td>\n",
       "      <td>2013-01-03</td>\n",
       "    </tr>\n",
       "  </tbody>\n",
       "</table>\n",
       "</div>"
      ],
      "text/plain": [
       "  colonne a  colonne b  colonne c\n",
       "0         a        -10 2013-01-01\n",
       "1         b          7 2013-01-02\n",
       "2         c         80 2013-01-03"
      ]
     },
     "execution_count": 57,
     "metadata": {},
     "output_type": "execute_result"
    }
   ],
   "source": [
    "import pandas as pd\n",
    "import numpy as np\n",
    "\n",
    "dates=pd.date_range(\"20130101\", periods=3)\n",
    "# help(pd.date_range)\n",
    "df1 = pd.DataFrame({\n",
    "    \"colonne a\": ['a', 'b', 'c'],\n",
    "    \"colonne b\": [-10, 7, 80],\n",
    "    \"colonne c\": [dates[0],dates[1],dates[2]]\n",
    "})\n",
    "\n",
    "# df2 = pd.DataFrame(np.random.randn(3), index=dates, columns=df1.columns)\n",
    "\n",
    "\n",
    "print('Test !!',df1,end=\"\\n\\n\")\n",
    "print('2',df1.columns,end=\"\\n\\n\")\n",
    "print('3',df1.values,end=\"\\n\\n\")\n",
    "print('4',df1.index,end=\"\\n\\n\")\n",
    "df1 ### Affiche le Dataframe de manière ergonomique\n",
    "\n"
   ]
  }
 ],
 "metadata": {
  "kernelspec": {
   "display_name": "base",
   "language": "python",
   "name": "python3"
  },
  "language_info": {
   "codemirror_mode": {
    "name": "ipython",
    "version": 3
   },
   "file_extension": ".py",
   "mimetype": "text/x-python",
   "name": "python",
   "nbconvert_exporter": "python",
   "pygments_lexer": "ipython3",
   "version": "3.9.16"
  },
  "orig_nbformat": 4
 },
 "nbformat": 4,
 "nbformat_minor": 2
}
