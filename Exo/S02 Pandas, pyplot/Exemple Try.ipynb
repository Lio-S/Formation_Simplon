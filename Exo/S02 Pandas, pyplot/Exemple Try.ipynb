{
 "cells": [
  {
   "cell_type": "code",
   "execution_count": 1,
   "metadata": {},
   "outputs": [
    {
     "name": "stdout",
     "output_type": "stream",
     "text": [
      "2 / 5 = 0.4\n",
      "Calcule effectue\n",
      "Finally\n",
      "Après le bloc Try\n",
      "Erreur:  [Errno 2] No such file or directory: 'Readme.md'\n"
     ]
    },
    {
     "ename": "NameError",
     "evalue": "name 'txt' is not defined",
     "output_type": "error",
     "traceback": [
      "\u001b[1;31m---------------------------------------------------------------------------\u001b[0m",
      "\u001b[1;31mNameError\u001b[0m                                 Traceback (most recent call last)",
      "\u001b[1;32mc:\\Users\\ZElion\\Projets IA\\Simplon\\2023.09.19\\Exemple Try.ipynb Cell 1\u001b[0m line \u001b[0;36m2\n\u001b[0;32m     <a href='vscode-notebook-cell:/c%3A/Users/ZElion/Projets%20IA/Simplon/2023.09.19/Exemple%20Try.ipynb#W0sZmlsZQ%3D%3D?line=24'>25</a>\u001b[0m     \u001b[39mprint\u001b[39m(\u001b[39m'\u001b[39m\u001b[39mErreur: \u001b[39m\u001b[39m'\u001b[39m, e)\n\u001b[0;32m     <a href='vscode-notebook-cell:/c%3A/Users/ZElion/Projets%20IA/Simplon/2023.09.19/Exemple%20Try.ipynb#W0sZmlsZQ%3D%3D?line=25'>26</a>\u001b[0m \u001b[39mfinally\u001b[39;00m:\n\u001b[1;32m---> <a href='vscode-notebook-cell:/c%3A/Users/ZElion/Projets%20IA/Simplon/2023.09.19/Exemple%20Try.ipynb#W0sZmlsZQ%3D%3D?line=26'>27</a>\u001b[0m     txt\u001b[39m.\u001b[39mclose()\n\u001b[0;32m     <a href='vscode-notebook-cell:/c%3A/Users/ZElion/Projets%20IA/Simplon/2023.09.19/Exemple%20Try.ipynb#W0sZmlsZQ%3D%3D?line=27'>28</a>\u001b[0m     \u001b[39mprint\u001b[39m(\u001b[39m'\u001b[39m\u001b[39mOn a fermé le fichier\u001b[39m\u001b[39m'\u001b[39m)\n",
      "\u001b[1;31mNameError\u001b[0m: name 'txt' is not defined"
     ]
    }
   ],
   "source": [
    "try:\n",
    "    num_1 = input('Choisissez le dividende: ')\n",
    "    num_2 = input('Choisissez le diviseur: ')\n",
    "\n",
    "    result = int(num_1) / int(num_2)\n",
    "    print(f\"{num_1} / {num_2} = {result}\")\n",
    "\n",
    "except (ZeroDivisionError):\n",
    "    print('On ne peux pas diviser par zero')\n",
    "except (Exception) as e:\n",
    "    print('Erreur: ', e)\n",
    "else:\n",
    "    print('Calcule effectue')\n",
    "finally:\n",
    "    print('Finally')\n",
    "\n",
    "print('Après le bloc Try')\n",
    "try:\n",
    "    txt = open('Readme.md', 'r')\n",
    "    print(\"FILE: \", txt.readline())\n",
    "    print(\"\")\n",
    "    txt.write(\"TEST 02\")\n",
    "    txt.close()\n",
    "except Exception as e:\n",
    "    print('Erreur: ', e)\n",
    "finally:\n",
    "    txt.close()\n",
    "    print('On a fermé le fichier')"
   ]
  }
 ],
 "metadata": {
  "kernelspec": {
   "display_name": "base",
   "language": "python",
   "name": "python3"
  },
  "language_info": {
   "codemirror_mode": {
    "name": "ipython",
    "version": 3
   },
   "file_extension": ".py",
   "mimetype": "text/x-python",
   "name": "python",
   "nbconvert_exporter": "python",
   "pygments_lexer": "ipython3",
   "version": "3.9.16"
  },
  "orig_nbformat": 4
 },
 "nbformat": 4,
 "nbformat_minor": 2
}
