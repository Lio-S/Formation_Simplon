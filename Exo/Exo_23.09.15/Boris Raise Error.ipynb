{
 "cells": [
  {
   "cell_type": "code",
   "execution_count": null,
   "metadata": {},
   "outputs": [],
   "source": [
    "#un exemple de raise\n",
    "nb = input('Choisir un entier positif')\n",
    "if nb.isnumeric() == False:\n",
    "    raise TypeError('On a dit un E N T I E R   P O S I T I F')\n",
    "else:\n",
    "    print(\"Bravo à tous!\") "
   ]
  }
 ],
 "metadata": {
  "language_info": {
   "name": "python"
  },
  "orig_nbformat": 4
 },
 "nbformat": 4,
 "nbformat_minor": 2
}
