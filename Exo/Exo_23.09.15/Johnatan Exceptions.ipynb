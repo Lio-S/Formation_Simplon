{
 "cells": [
  {
   "cell_type": "code",
   "execution_count": null,
   "metadata": {},
   "outputs": [],
   "source": [
    "try:\n",
    "    num_1 = input('Choisissez le dividende: ')\n",
    "    num_2 = input('Choisissez le diviseur: ')\n",
    "\n",
    "    result = int(num_1) / int(num_2)\n",
    "    print(f\"{num_1} / {num_2} = {result}\")\n",
    "\n",
    "except (ZeroDivisionError):\n",
    "    print('On ne peux pas diviser par zero')\n",
    "except (Exception) as e:\n",
    "    print('Erreur: ', e)\n",
    "else:\n",
    "    print('Calcule effectue')\n",
    "finally:\n",
    "    print('Finally')\n",
    "\n",
    "print('Après le bloc Try')\n",
    "**************************************\n",
    "try:\n",
    "    txt = open('Readme.md', 'r')\n",
    "    print(\"FILE: \", txt.readline())\n",
    "    print(\"\")\n",
    "    txt.write(\"TEST 02\")\n",
    "    txt.close()\n",
    "except Exception as e:\n",
    "    print('Erreur: ', e)\n",
    "finally:\n",
    "    txt.close()\n",
    "    print('On a fermé le fichier')"
   ]
  }
 ],
 "metadata": {
  "language_info": {
   "name": "python"
  },
  "orig_nbformat": 4
 },
 "nbformat": 4,
 "nbformat_minor": 2
}
