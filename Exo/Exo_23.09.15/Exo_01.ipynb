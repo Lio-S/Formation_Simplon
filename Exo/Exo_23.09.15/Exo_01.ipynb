{
 "cells": [
  {
   "cell_type": "markdown",
   "metadata": {},
   "source": [
    "Numpy random\n",
    "Faire un générateur de nombre aléatoire pour le loto et l'euromillion. Attention c’est un tirage aléatoire sans remise (c.a.d que la boule trouvée n’est pas remise en jeu) et tous les chiffres ont la même probabilité d’apparaître."
   ]
  },
  {
   "cell_type": "code",
   "execution_count": null,
   "metadata": {},
   "outputs": [],
   "source": [
    "import numpy as np\n",
    "\n",
    "Tab = [np.arange(1,50) for i in range(50)]\n",
    "Nombre_Gen = int(np.random.sample(Tab))\n",
    "\n",
    "\n",
    "Ret=0\n",
    "while (int(Ret)!=Nombre_Gen) :\n",
    "    if int(Ret)==Nombre_Gen :\n",
    "        exit\n",
    "    Ret = input(\"Devinez un nombre entre 1 et 1000 :\")\n",
    "    if int(Ret)<Nombre_Gen :\n",
    "        print(\"Le nombre secret est supérieur à \",Ret)\n",
    "    elif int(Ret)> Nombre_Gen :\n",
    "        print(\"Le nombre secret est inférieur à \",Ret)\n",
    "    else :\n",
    "        print(\"Bien joué !!!\") "
   ]
  }
 ],
 "metadata": {
  "kernelspec": {
   "display_name": "base",
   "language": "python",
   "name": "python3"
  },
  "language_info": {
   "codemirror_mode": {
    "name": "ipython",
    "version": 3
   },
   "file_extension": ".py",
   "mimetype": "text/x-python",
   "name": "python",
   "nbconvert_exporter": "python",
   "pygments_lexer": "ipython3",
   "version": "3.9.16"
  },
  "orig_nbformat": 4
 },
 "nbformat": 4,
 "nbformat_minor": 2
}
