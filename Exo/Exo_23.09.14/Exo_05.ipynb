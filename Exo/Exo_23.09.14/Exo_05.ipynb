{
 "cells": [
  {
   "cell_type": "markdown",
   "metadata": {},
   "source": [
    "5. Créez une fonction qui prend un tableau NumPy en entrée et renvoie un nouveau tableau contenant uniquement les éléments uniques du tableau d'origine."
   ]
  },
  {
   "cell_type": "code",
   "execution_count": 16,
   "metadata": {},
   "outputs": [],
   "source": [
    "import numpy as np\n",
    "import random"
   ]
  },
  {
   "cell_type": "code",
   "execution_count": 18,
   "metadata": {},
   "outputs": [],
   "source": [
    "Rand_Array=6*[0]\n",
    "for i in range(5):\n",
    "    Rand_Array[i]= random.random()\n",
    "\n",
    "def Rand_Array_Unique(Tableau_np) :\n",
    "    Tableau_np=Tableau_np.sort()\n",
    "    for i in range(5) :\n",
    "        if Tableau_np[i]==Tableau_np[i+1]:\n",
    "            del(Tableau_np[i+1])\n",
    "        del(Tableau_np[5])\n",
    "    return Tableau_np\n",
    "\n",
    "Rand_Array = Rand_Array_Unique(Rand_Array)\n",
    "print(Rand_Array)"
   ]
  }
 ],
 "metadata": {
  "kernelspec": {
   "display_name": "base",
   "language": "python",
   "name": "python3"
  },
  "language_info": {
   "codemirror_mode": {
    "name": "ipython",
    "version": 3
   },
   "file_extension": ".py",
   "mimetype": "text/x-python",
   "name": "python",
   "nbconvert_exporter": "python",
   "pygments_lexer": "ipython3",
   "version": "3.9.16"
  },
  "orig_nbformat": 4
 },
 "nbformat": 4,
 "nbformat_minor": 2
}
