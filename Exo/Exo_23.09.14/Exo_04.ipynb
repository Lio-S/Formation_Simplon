{
 "cells": [
  {
   "cell_type": "markdown",
   "metadata": {},
   "source": [
    "4. Créez une fonction qui prend deux tableaux NumPy en entrée et renvoie le produit scalaire de ces deux tableaux (dot product).\n"
   ]
  },
  {
   "cell_type": "code",
   "execution_count": 1,
   "metadata": {},
   "outputs": [],
   "source": [
    "import numpy as np"
   ]
  },
  {
   "cell_type": "code",
   "execution_count": 4,
   "metadata": {},
   "outputs": [
    {
     "name": "stdout",
     "output_type": "stream",
     "text": [
      "[ 0. 20. 40. 60. 80.] [ 0. 20. 40. 60. 80.]\n",
      "12000.0\n"
     ]
    }
   ],
   "source": [
    "Float_Array_1= np.linspace(0,100,5,endpoint=False,dtype=float)\n",
    "Float_Array_2= np.linspace(0,100,5,endpoint=False,dtype=float)\n",
    "\n",
    "def Produit_Scal(Tableau_np_1,Tableau_np_2) :\n",
    "    Prod_Scalaire = np.dot(Tableau_np_1,Tableau_np_2)\n",
    "    return Prod_Scalaire\n",
    "\n",
    "Prod_Scalaire = Produit_Scal(Float_Array_1,Float_Array_2)\n",
    "print(Float_Array_1,Float_Array_2)\n",
    "print(Prod_Scalaire)"
   ]
  }
 ],
 "metadata": {
  "kernelspec": {
   "display_name": "base",
   "language": "python",
   "name": "python3"
  },
  "language_info": {
   "codemirror_mode": {
    "name": "ipython",
    "version": 3
   },
   "file_extension": ".py",
   "mimetype": "text/x-python",
   "name": "python",
   "nbconvert_exporter": "python",
   "pygments_lexer": "ipython3",
   "version": "3.9.16"
  },
  "orig_nbformat": 4
 },
 "nbformat": 4,
 "nbformat_minor": 2
}
