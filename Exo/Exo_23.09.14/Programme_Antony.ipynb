{
  "cells": [
    {
      "cell_type": "code",
      "execution_count": 1,
      "metadata": {
        "id": "eZlP___Qzq6H"
      },
      "outputs": [],
      "source": [
        "import numpy as np"
      ]
    },
    {
      "cell_type": "code",
      "execution_count": 2,
      "metadata": {
        "colab": {
          "base_uri": "https://localhost:8080/"
        },
        "id": "s3D2mDpMzzGg",
        "outputId": "12be2b49-b1fd-48b5-82a8-f13c43609240"
      },
      "outputs": [
        {
          "data": {
            "text/plain": [
              "array([[0.],\n",
              "       [0.],\n",
              "       [0.],\n",
              "       [0.],\n",
              "       [0.]])"
            ]
          },
          "execution_count": 2,
          "metadata": {},
          "output_type": "execute_result"
        }
      ],
      "source": [
        "a = np.zeros((5,1))\n",
        "a"
      ]
    },
    {
      "cell_type": "code",
      "execution_count": 3,
      "metadata": {
        "colab": {
          "base_uri": "https://localhost:8080/"
        },
        "id": "rQ5MvKiZ0qru",
        "outputId": "90cd0f49-2fc2-42b6-ef4e-6aae490fcef6"
      },
      "outputs": [
        {
          "data": {
            "text/plain": [
              "array([1, 2, 3, 4, 5])"
            ]
          },
          "execution_count": 3,
          "metadata": {},
          "output_type": "execute_result"
        }
      ],
      "source": [
        "b = np.array(([1,2,3,4,5]))\n",
        "b"
      ]
    },
    {
      "cell_type": "code",
      "execution_count": 4,
      "metadata": {
        "colab": {
          "base_uri": "https://localhost:8080/"
        },
        "id": "kltmioGI0zAQ",
        "outputId": "b8147a65-67d0-4682-8717-4b6c5a6f938e"
      },
      "outputs": [
        {
          "data": {
            "text/plain": [
              "array([[1., 2., 3., 4., 5.],\n",
              "       [1., 2., 3., 4., 5.],\n",
              "       [1., 2., 3., 4., 5.],\n",
              "       [1., 2., 3., 4., 5.],\n",
              "       [1., 2., 3., 4., 5.]])"
            ]
          },
          "execution_count": 4,
          "metadata": {},
          "output_type": "execute_result"
        }
      ],
      "source": [
        "A = a+b\n",
        "A"
      ]
    },
    {
      "cell_type": "code",
      "execution_count": 5,
      "metadata": {
        "colab": {
          "base_uri": "https://localhost:8080/"
        },
        "id": "aTeweRpe1AZ9",
        "outputId": "6f9cd877-a4a9-4516-800a-2b6f911829b1"
      },
      "outputs": [
        {
          "data": {
            "text/plain": [
              "array([[1., 1., 1., 1., 1.],\n",
              "       [1., 1., 1., 1., 1.],\n",
              "       [1., 1., 1., 1., 1.],\n",
              "       [1., 1., 1., 1., 1.],\n",
              "       [1., 1., 1., 1., 1.]])"
            ]
          },
          "execution_count": 5,
          "metadata": {},
          "output_type": "execute_result"
        }
      ],
      "source": [
        "B = np.ones((5,5))\n",
        "B"
      ]
    },
    {
      "cell_type": "code",
      "execution_count": 6,
      "metadata": {
        "colab": {
          "base_uri": "https://localhost:8080/"
        },
        "id": "kWmysc471G1Q",
        "outputId": "875339ed-3fbf-4a7a-9aff-524ee91eef4e"
      },
      "outputs": [
        {
          "data": {
            "text/plain": [
              "array([[1., 2., 3., 4., 5.],\n",
              "       [1., 2., 3., 4., 5.],\n",
              "       [1., 2., 3., 4., 5.],\n",
              "       [1., 2., 3., 4., 5.],\n",
              "       [1., 2., 3., 4., 5.]])"
            ]
          },
          "execution_count": 6,
          "metadata": {},
          "output_type": "execute_result"
        }
      ],
      "source": [
        "A * B"
      ]
    },
    {
      "cell_type": "code",
      "execution_count": 7,
      "metadata": {
        "colab": {
          "base_uri": "https://localhost:8080/"
        },
        "id": "of3ifPaE161p",
        "outputId": "c9ed6f9f-6cc6-4a91-e8d9-e227118e3185"
      },
      "outputs": [
        {
          "data": {
            "text/plain": [
              "array([[15., 15., 15., 15., 15.],\n",
              "       [15., 15., 15., 15., 15.],\n",
              "       [15., 15., 15., 15., 15.],\n",
              "       [15., 15., 15., 15., 15.],\n",
              "       [15., 15., 15., 15., 15.]])"
            ]
          },
          "execution_count": 7,
          "metadata": {},
          "output_type": "execute_result"
        }
      ],
      "source": [
        "np.dot(A,B)"
      ]
    },
    {
      "cell_type": "code",
      "execution_count": 8,
      "metadata": {
        "colab": {
          "base_uri": "https://localhost:8080/"
        },
        "id": "p0Fzl7sd2IL7",
        "outputId": "2e4a96d4-fa27-4e35-f989-aa127b9d4086"
      },
      "outputs": [
        {
          "data": {
            "text/plain": [
              "array([[1., 1., 1., 1., 1.],\n",
              "       [2., 2., 2., 2., 2.],\n",
              "       [3., 3., 3., 3., 3.],\n",
              "       [4., 4., 4., 4., 4.],\n",
              "       [5., 5., 5., 5., 5.]])"
            ]
          },
          "execution_count": 8,
          "metadata": {},
          "output_type": "execute_result"
        }
      ],
      "source": [
        "A.T"
      ]
    },
    {
      "cell_type": "code",
      "execution_count": 9,
      "metadata": {
        "colab": {
          "base_uri": "https://localhost:8080/"
        },
        "id": "a8GKhXSI2UQ3",
        "outputId": "20ec9bb9-ffe5-4848-d2da-9767817590dc"
      },
      "outputs": [
        {
          "data": {
            "text/plain": [
              "array([[1., 0., 0., 0., 0.],\n",
              "       [0., 1., 0., 0., 0.],\n",
              "       [0., 0., 1., 0., 0.],\n",
              "       [0., 0., 0., 1., 0.],\n",
              "       [0., 0., 0., 0., 1.]])"
            ]
          },
          "execution_count": 9,
          "metadata": {},
          "output_type": "execute_result"
        }
      ],
      "source": [
        "Id = np.eye(5,5)\n",
        "Id"
      ]
    },
    {
      "cell_type": "code",
      "execution_count": 10,
      "metadata": {
        "colab": {
          "base_uri": "https://localhost:8080/"
        },
        "id": "KniSke0m2sZv",
        "outputId": "3fa6b128-ea78-40a6-f836-5bc30421b53b"
      },
      "outputs": [
        {
          "data": {
            "text/plain": [
              "array([[1., 0., 0., 0., 0.],\n",
              "       [0., 2., 0., 0., 0.],\n",
              "       [0., 0., 3., 0., 0.],\n",
              "       [0., 0., 0., 4., 0.],\n",
              "       [0., 0., 0., 0., 5.]])"
            ]
          },
          "execution_count": 10,
          "metadata": {},
          "output_type": "execute_result"
        }
      ],
      "source": [
        "Id*A"
      ]
    },
    {
      "cell_type": "code",
      "execution_count": 11,
      "metadata": {
        "colab": {
          "base_uri": "https://localhost:8080/"
        },
        "id": "Z8dRnBUR24j6",
        "outputId": "32689b39-aaba-4513-e694-27bd8e1cf586"
      },
      "outputs": [
        {
          "data": {
            "text/plain": [
              "array([[1., 2., 3., 4., 5.],\n",
              "       [1., 2., 3., 4., 5.],\n",
              "       [1., 2., 3., 4., 5.],\n",
              "       [1., 2., 3., 4., 5.],\n",
              "       [1., 2., 3., 4., 5.]])"
            ]
          },
          "execution_count": 11,
          "metadata": {},
          "output_type": "execute_result"
        }
      ],
      "source": [
        "np.dot(Id,A)"
      ]
    },
    {
      "cell_type": "code",
      "execution_count": 12,
      "metadata": {
        "colab": {
          "base_uri": "https://localhost:8080/"
        },
        "id": "8GCxH15f3FlW",
        "outputId": "f5cacc62-b80f-4a4a-b2bc-9323020f9804"
      },
      "outputs": [
        {
          "data": {
            "text/plain": [
              "array([[1.        , 0.5       , 0.33333333, 0.25      , 0.2       ],\n",
              "       [1.        , 0.5       , 0.33333333, 0.25      , 0.2       ],\n",
              "       [1.        , 0.5       , 0.33333333, 0.25      , 0.2       ],\n",
              "       [1.        , 0.5       , 0.33333333, 0.25      , 0.2       ],\n",
              "       [1.        , 0.5       , 0.33333333, 0.25      , 0.2       ]])"
            ]
          },
          "execution_count": 12,
          "metadata": {},
          "output_type": "execute_result"
        }
      ],
      "source": [
        "C = 1/A\n",
        "C"
      ]
    },
    {
      "cell_type": "code",
      "execution_count": 13,
      "metadata": {
        "colab": {
          "base_uri": "https://localhost:8080/"
        },
        "id": "Kvoijby93M3l",
        "outputId": "7d66e7e7-4da6-43dc-c9f4-4d8a535a4e81"
      },
      "outputs": [
        {
          "data": {
            "text/plain": [
              "array([[ 2.28333333,  4.56666667,  6.85      ,  9.13333333, 11.41666667],\n",
              "       [ 2.28333333,  4.56666667,  6.85      ,  9.13333333, 11.41666667],\n",
              "       [ 2.28333333,  4.56666667,  6.85      ,  9.13333333, 11.41666667],\n",
              "       [ 2.28333333,  4.56666667,  6.85      ,  9.13333333, 11.41666667],\n",
              "       [ 2.28333333,  4.56666667,  6.85      ,  9.13333333, 11.41666667]])"
            ]
          },
          "execution_count": 13,
          "metadata": {},
          "output_type": "execute_result"
        }
      ],
      "source": [
        "np.dot(C,A)"
      ]
    },
    {
      "cell_type": "code",
      "execution_count": 14,
      "metadata": {
        "colab": {
          "base_uri": "https://localhost:8080/",
          "height": 328
        },
        "id": "z9c-3Ura3XhY",
        "outputId": "c292730a-a597-4a6a-fe1e-0d9637778193"
      },
      "outputs": [
        {
          "ename": "LinAlgError",
          "evalue": "Singular matrix",
          "output_type": "error",
          "traceback": [
            "\u001b[1;31m---------------------------------------------------------------------------\u001b[0m",
            "\u001b[1;31mLinAlgError\u001b[0m                               Traceback (most recent call last)",
            "\u001b[1;32mc:\\Users\\ZElion\\Projets IA\\Simplon\\Exo_23.09.14\\Programme_Antony.ipynb Cell 14\u001b[0m line \u001b[0;36m1\n\u001b[1;32m----> <a href='vscode-notebook-cell:/c%3A/Users/ZElion/Projets%20IA/Simplon/Exo_23.09.14/Programme_Antony.ipynb#X16sZmlsZQ%3D%3D?line=0'>1</a>\u001b[0m Ainv \u001b[39m=\u001b[39m np\u001b[39m.\u001b[39;49mlinalg\u001b[39m.\u001b[39;49minv(A)\n",
            "File \u001b[1;32m<__array_function__ internals>:200\u001b[0m, in \u001b[0;36minv\u001b[1;34m(*args, **kwargs)\u001b[0m\n",
            "File \u001b[1;32mc:\\Users\\ZElion\\anaconda3\\lib\\site-packages\\numpy\\linalg\\linalg.py:538\u001b[0m, in \u001b[0;36minv\u001b[1;34m(a)\u001b[0m\n\u001b[0;32m    536\u001b[0m signature \u001b[39m=\u001b[39m \u001b[39m'\u001b[39m\u001b[39mD->D\u001b[39m\u001b[39m'\u001b[39m \u001b[39mif\u001b[39;00m isComplexType(t) \u001b[39melse\u001b[39;00m \u001b[39m'\u001b[39m\u001b[39md->d\u001b[39m\u001b[39m'\u001b[39m\n\u001b[0;32m    537\u001b[0m extobj \u001b[39m=\u001b[39m get_linalg_error_extobj(_raise_linalgerror_singular)\n\u001b[1;32m--> 538\u001b[0m ainv \u001b[39m=\u001b[39m _umath_linalg\u001b[39m.\u001b[39;49minv(a, signature\u001b[39m=\u001b[39;49msignature, extobj\u001b[39m=\u001b[39;49mextobj)\n\u001b[0;32m    539\u001b[0m \u001b[39mreturn\u001b[39;00m wrap(ainv\u001b[39m.\u001b[39mastype(result_t, copy\u001b[39m=\u001b[39m\u001b[39mFalse\u001b[39;00m))\n",
            "File \u001b[1;32mc:\\Users\\ZElion\\anaconda3\\lib\\site-packages\\numpy\\linalg\\linalg.py:89\u001b[0m, in \u001b[0;36m_raise_linalgerror_singular\u001b[1;34m(err, flag)\u001b[0m\n\u001b[0;32m     88\u001b[0m \u001b[39mdef\u001b[39;00m \u001b[39m_raise_linalgerror_singular\u001b[39m(err, flag):\n\u001b[1;32m---> 89\u001b[0m     \u001b[39mraise\u001b[39;00m LinAlgError(\u001b[39m\"\u001b[39m\u001b[39mSingular matrix\u001b[39m\u001b[39m\"\u001b[39m)\n",
            "\u001b[1;31mLinAlgError\u001b[0m: Singular matrix"
          ]
        }
      ],
      "source": [
        "Ainv = np.linalg.inv(A)"
      ]
    },
    {
      "cell_type": "code",
      "execution_count": null,
      "metadata": {
        "colab": {
          "base_uri": "https://localhost:8080/"
        },
        "id": "N_LBs3Q63tRP",
        "outputId": "6d4a3782-0ace-4407-ebba-c9e0f52a4c61"
      },
      "outputs": [
        {
          "name": "stdout",
          "output_type": "stream",
          "text": [
            "Help on built-in function randn:\n",
            "\n",
            "randn(...) method of numpy.random.mtrand.RandomState instance\n",
            "    randn(d0, d1, ..., dn)\n",
            "    \n",
            "    Return a sample (or samples) from the \"standard normal\" distribution.\n",
            "    \n",
            "    .. note::\n",
            "        This is a convenience function for users porting code from Matlab,\n",
            "        and wraps `standard_normal`. That function takes a\n",
            "        tuple to specify the size of the output, which is consistent with\n",
            "        other NumPy functions like `numpy.zeros` and `numpy.ones`.\n",
            "    \n",
            "    .. note::\n",
            "        New code should use the\n",
            "        `~numpy.random.Generator.standard_normal`\n",
            "        method of a `~numpy.random.Generator` instance instead;\n",
            "        please see the :ref:`random-quick-start`.\n",
            "    \n",
            "    If positive int_like arguments are provided, `randn` generates an array\n",
            "    of shape ``(d0, d1, ..., dn)``, filled\n",
            "    with random floats sampled from a univariate \"normal\" (Gaussian)\n",
            "    distribution of mean 0 and variance 1. A single float randomly sampled\n",
            "    from the distribution is returned if no argument is provided.\n",
            "    \n",
            "    Parameters\n",
            "    ----------\n",
            "    d0, d1, ..., dn : int, optional\n",
            "        The dimensions of the returned array, must be non-negative.\n",
            "        If no argument is given a single Python float is returned.\n",
            "    \n",
            "    Returns\n",
            "    -------\n",
            "    Z : ndarray or float\n",
            "        A ``(d0, d1, ..., dn)``-shaped array of floating-point samples from\n",
            "        the standard normal distribution, or a single such float if\n",
            "        no parameters were supplied.\n",
            "    \n",
            "    See Also\n",
            "    --------\n",
            "    standard_normal : Similar, but takes a tuple as its argument.\n",
            "    normal : Also accepts mu and sigma arguments.\n",
            "    random.Generator.standard_normal: which should be used for new code.\n",
            "    \n",
            "    Notes\n",
            "    -----\n",
            "    For random samples from the normal distribution with mean ``mu`` and\n",
            "    standard deviation ``sigma``, use::\n",
            "    \n",
            "        sigma * np.random.randn(...) + mu\n",
            "    \n",
            "    Examples\n",
            "    --------\n",
            "    >>> np.random.randn()\n",
            "    2.1923875335537315  # random\n",
            "    \n",
            "    Two-by-four array of samples from the normal distribution with\n",
            "    mean 3 and standard deviation 2.5:\n",
            "    \n",
            "    >>> 3 + 2.5 * np.random.randn(2, 4)\n",
            "    array([[-4.49401501,  4.00950034, -1.81814867,  7.29718677],   # random\n",
            "           [ 0.39924804,  4.68456316,  4.99394529,  4.84057254]])  # random\n",
            "\n"
          ]
        },
        {
          "data": {
            "text/plain": [
              "array([[ 1.15780223e+00,  5.30088646e+00,  1.58557185e+00,\n",
              "         2.47152392e+00,  1.05563301e+00],\n",
              "       [ 3.14832285e+00,  1.65607487e+00,  5.21942967e+00,\n",
              "         1.67055132e+00,  2.00843713e+00],\n",
              "       [ 3.96131443e+00, -3.70021850e+00,  1.08821818e+00,\n",
              "         6.83038362e+00,  1.29890467e+00],\n",
              "       [-1.33302716e-03,  1.31455217e+00, -1.50404584e+00,\n",
              "        -2.95566211e+00,  3.98352705e+00],\n",
              "       [ 2.18406068e+00,  1.10061230e+00, -2.24144471e+00,\n",
              "         9.00447209e+00,  4.16821257e+00]])"
            ]
          },
          "execution_count": 39,
          "metadata": {},
          "output_type": "execute_result"
        }
      ],
      "source": [
        "P = np.random.randn(5,5)*3  +  2\n",
        "help(np.random.randn)\n",
        "P"
      ]
    },
    {
      "cell_type": "code",
      "execution_count": null,
      "metadata": {
        "colab": {
          "base_uri": "https://localhost:8080/"
        },
        "id": "_MsWMIB54BLG",
        "outputId": "5ab33f73-e50e-4f6c-a6c7-1fa07c42d9f3"
      },
      "outputs": [
        {
          "data": {
            "text/plain": [
              "array([[ 0.3893319 , -0.68858687,  0.11609742,  0.17038702,  0.10572496],\n",
              "       [-0.51922738,  1.02890143, -0.47882473, -0.08646366, -0.03842222],\n",
              "       [-0.60402638,  1.20355733, -0.55811293, -0.27013993, -0.04763595],\n",
              "       [ 0.10634285,  0.03512026,  0.20471365, -0.0310306 ,  0.02183138],\n",
              "       [-0.58419792,  2.02396716, -0.63756617, -0.19231249, -0.34885293]])"
            ]
          },
          "execution_count": 37,
          "metadata": {},
          "output_type": "execute_result"
        }
      ],
      "source": [
        "Pinv = np.linalg.inv(P)\n",
        "Pinv"
      ]
    },
    {
      "cell_type": "code",
      "execution_count": null,
      "metadata": {
        "colab": {
          "base_uri": "https://localhost:8080/"
        },
        "id": "t9O9upxl4alD",
        "outputId": "d2c75769-5cc2-4cef-8e2a-da6dade7dba1"
      },
      "outputs": [
        {
          "data": {
            "text/plain": [
              "array([[ 1.00000000e+00, -1.20777560e-16,  1.73258941e-16,\n",
              "         2.69875293e-17,  1.73723648e-18],\n",
              "       [ 1.49381987e-16,  1.00000000e+00,  4.46515197e-17,\n",
              "        -6.20868780e-17,  3.56588960e-17],\n",
              "       [ 2.37743268e-16, -2.45704736e-17,  1.00000000e+00,\n",
              "        -1.55572081e-16,  6.18528960e-17],\n",
              "       [-4.68879192e-17,  6.82460173e-18, -4.51071384e-17,\n",
              "         1.00000000e+00, -3.26954998e-17],\n",
              "       [ 2.58827064e-16, -4.91970647e-16,  2.53787188e-16,\n",
              "         2.15204729e-16,  1.00000000e+00]])"
            ]
          },
          "execution_count": 38,
          "metadata": {},
          "output_type": "execute_result"
        }
      ],
      "source": [
        "np.dot(Pinv,P)"
      ]
    },
    {
      "cell_type": "code",
      "execution_count": 18,
      "metadata": {
        "colab": {
          "base_uri": "https://localhost:8080/",
          "height": 430
        },
        "id": "qf5PnXhM7qYG",
        "outputId": "94cc6255-ceeb-4347-cf93-295bdb7143d4"
      },
      "outputs": [
        {
          "data": {
            "image/png": "[encoded data removed]",
            "text/plain": [
              "<Figure size 640x480 with 1 Axes>"
            ]
          },
          "metadata": {},
          "output_type": "display_data"
        }
      ],
      "source": [
        "def affine(a,b,x1,x2):\n",
        "  y = list()\n",
        "  xx = list()\n",
        "  x = range(x1,x2)\n",
        "  for n in x :\n",
        "    y.append(a*n+b)\n",
        "    xx.append(n)\n",
        "  return np.array(y), xx\n",
        "\n",
        "a = .1\n",
        "b =  0\n",
        "x1 = -10\n",
        "x2 = 10\n",
        "y,x = affine(a,b,x1,x2)\n",
        "\n",
        "import matplotlib.pyplot as plt\n",
        "\n",
        "plt.plot(x,y)\n",
        "plt.grid()\n"
      ]
    },
    {
      "cell_type": "code",
      "execution_count": null,
      "metadata": {
        "id": "WQ-Z99JKDX4O"
      },
      "outputs": [],
      "source": [
        "nn = y.shape[0]"
      ]
    },
    {
      "cell_type": "code",
      "execution_count": null,
      "metadata": {
        "id": "40488JOE-yoU"
      },
      "outputs": [],
      "source": [
        "yerr = y + np.random.randn(nn)/10"
      ]
    },
    {
      "cell_type": "code",
      "execution_count": null,
      "metadata": {
        "colab": {
          "base_uri": "https://localhost:8080/",
          "height": 430
        },
        "id": "oKU1XS9TDiQ7",
        "outputId": "3155fc9e-1d88-4475-e6c8-fe45623f5be9"
      },
      "outputs": [
        {
          "data": {
            "image/png": "[encoded data removed]",
            "text/plain": [
              "<Figure size 640x480 with 1 Axes>"
            ]
          },
          "metadata": {},
          "output_type": "display_data"
        }
      ],
      "source": [
        "plt.plot(x,y)\n",
        "plt.plot(x,yerr,'o')\n",
        "plt.grid()"
      ]
    },
    {
      "cell_type": "code",
      "execution_count": null,
      "metadata": {
        "colab": {
          "base_uri": "https://localhost:8080/",
          "height": 430
        },
        "id": "BvUunDGTD3lC",
        "outputId": "2d2f5774-2f74-46e6-ec5b-6bc6c6502baf"
      },
      "outputs": [
        {
          "data": {
            "image/png": "[encoded data removed]",
            "text/plain": [
              "<Figure size 640x480 with 1 Axes>"
            ]
          },
          "metadata": {},
          "output_type": "display_data"
        }
      ],
      "source": [
        "def erreur(verite,prediction):\n",
        "  err = np.mean( (verite-prediction)**2  )\n",
        "  return err\n",
        "\n",
        "\n",
        "list_err = list()\n",
        "aaaaaa = np.arange(-2,2,.1)\n",
        "for a in list(aaaaaa):\n",
        "  y_test,x = affine(a,0,x1,x2)\n",
        "  list_err.append(erreur(y,y_test))\n",
        "\n",
        "\n",
        "plt.plot(aaaaaa,list_err)\n",
        "plt.grid()"
      ]
    },
    {
      "cell_type": "code",
      "execution_count": null,
      "metadata": {
        "id": "SLENKyD1HLBi"
      },
      "outputs": [],
      "source": []
    }
  ],
  "metadata": {
    "colab": {
      "provenance": []
    },
    "kernelspec": {
      "display_name": "Python 3",
      "name": "python3"
    },
    "language_info": {
      "codemirror_mode": {
        "name": "ipython",
        "version": 3
      },
      "file_extension": ".py",
      "mimetype": "text/x-python",
      "name": "python",
      "nbconvert_exporter": "python",
      "pygments_lexer": "ipython3",
      "version": "3.9.16"
    }
  },
  "nbformat": 4,
  "nbformat_minor": 0
}
