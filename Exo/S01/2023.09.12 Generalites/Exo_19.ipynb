{
 "cells": [
  {
   "cell_type": "markdown",
   "metadata": {},
   "source": [
    "19. Écrivez une fonction qui prend une liste de mots en entrée et renvoie une nouvelle liste contenant les mots dont la première lettre est une voyelle (a, e, i, o, u) en utilisant une boucle \"while\"."
   ]
  },
  {
   "cell_type": "code",
   "execution_count": 2,
   "metadata": {},
   "outputs": [
    {
     "name": "stdout",
     "output_type": "stream",
     "text": [
      "['abjkhk']\n"
     ]
    }
   ],
   "source": [
    "i=0\n",
    "Indice=0\n",
    "Nombre_de_Mot = int(input(\"Entrez le nombre de mot à traiter : \"))\n",
    "Mots_Sorties = [0 for y in range(Nombre_de_Mot)]\n",
    "\n",
    "while (i < (Nombre_de_Mot)) :\n",
    "    Ret= (input(\"Tapez un Mot\"))\n",
    "    if Ret[0] in (\"aeiouy\"):\n",
    "        Mots_Sorties[Indice] = Ret \n",
    "        Indice+=1\n",
    "    else :\n",
    "        del(Mots_Sorties[-1])\n",
    "    i+=1\n",
    "print(Mots_Sorties)"
   ]
  }
 ],
 "metadata": {
  "kernelspec": {
   "display_name": "Python 3",
   "language": "python",
   "name": "python3"
  },
  "language_info": {
   "codemirror_mode": {
    "name": "ipython",
    "version": 3
   },
   "file_extension": ".py",
   "mimetype": "text/x-python",
   "name": "python",
   "nbconvert_exporter": "python",
   "pygments_lexer": "ipython3",
   "version": "3.11.3"
  },
  "orig_nbformat": 4
 },
 "nbformat": 4,
 "nbformat_minor": 2
}
