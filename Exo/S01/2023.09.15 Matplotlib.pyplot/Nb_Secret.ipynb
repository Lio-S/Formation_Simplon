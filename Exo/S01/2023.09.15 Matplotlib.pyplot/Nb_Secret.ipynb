{
 "cells": [
  {
   "cell_type": "markdown",
   "metadata": {},
   "source": [
    "Reprenez l’exercice 16 du 23.09.12\n",
    "et faites en sorte que le nombre à trouver soit aléatoire et compris entre 1 et 1000: \n",
    "“Écrivez un programme qui demande à l'utilisateur de deviner un nombre secret (par exemple 42). Le programme indique à l'utilisateur si le nombre à deviner est plus grand ou plus petit que sa proposition et continue de demander un nombre tant que l'utilisateur ne trouve pas le nombre secret. Une fois que l'utilisateur trouve le nombre secret, affichez un message de félicitations.”\n"
   ]
  },
  {
   "cell_type": "code",
   "execution_count": 3,
   "metadata": {},
   "outputs": [
    {
     "name": "stdout",
     "output_type": "stream",
     "text": [
      "117\n",
      "Le nombre secret est supérieur à  10\n",
      "Le nombre secret est supérieur à  20\n",
      "Le nombre secret est supérieur à  3\n",
      "Le nombre secret est supérieur à  40\n",
      "Bien joué !!!\n"
     ]
    }
   ],
   "source": [
    "import numpy as np\n",
    "\n",
    "Tab = np.arange(1,1001)\n",
    "Nombre_Gen = np.random.choice(Tab)\n",
    "print(Nombre_Gen)\n",
    "\n",
    "\n",
    "Ret=0\n",
    "while (Ret!=Nombre_Gen) :\n",
    "    Ret = input(\"Devinez un nombre entre 1 et 1000 :\")\n",
    "    Ret = int(Ret)\n",
    "    if Ret < Nombre_Gen :\n",
    "        print(\"Le nombre secret est supérieur à \",Ret)\n",
    "    elif Ret> Nombre_Gen :\n",
    "        print(\"Le nombre secret est inférieur à \",Ret)\n",
    "    else :\n",
    "        print(\"Bien joué !!!\") \n",
    "        break"
   ]
  }
 ],
 "metadata": {
  "kernelspec": {
   "display_name": "base",
   "language": "python",
   "name": "python3"
  },
  "language_info": {
   "codemirror_mode": {
    "name": "ipython",
    "version": 3
   },
   "file_extension": ".py",
   "mimetype": "text/x-python",
   "name": "python",
   "nbconvert_exporter": "python",
   "pygments_lexer": "ipython3",
   "version": "3.9.16"
  },
  "orig_nbformat": 4
 },
 "nbformat": 4,
 "nbformat_minor": 2
}
