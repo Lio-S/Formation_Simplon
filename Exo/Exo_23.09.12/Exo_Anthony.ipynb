{
 "cells": [
  {
   "cell_type": "code",
   "execution_count": null,
   "metadata": {},
   "outputs": [],
   "source": [
    "import matplotlib.pyplot as plt \n",
    "def affine(a=2, b=1, x = np.arange(-15,5,1)):\n",
    "    \"\"\" \n",
    "    retourne la fonction affine en utilisant les paramètres\n",
    "\n",
    "    input:\n",
    "    a: coefficient directeur\n",
    "    b: ordonnée à l'origine\n",
    "    x: l'interval sur lequel on va tracer\n",
    "\n",
    "    output:\n",
    "    y: la fonction affine\n",
    "    \"\"\"\n",
    "    y = a*x + b\n",
    "    return y, x \n",
    "\n",
    "x = np.arange(-10,10)\n"
   ]
  }
 ],
 "metadata": {
  "language_info": {
   "name": "python"
  },
  "orig_nbformat": 4
 },
 "nbformat": 4,
 "nbformat_minor": 2
}
