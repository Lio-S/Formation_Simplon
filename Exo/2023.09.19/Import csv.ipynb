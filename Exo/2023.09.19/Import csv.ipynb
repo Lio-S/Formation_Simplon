{
 "cells": [
  {
   "cell_type": "code",
   "execution_count": null,
   "metadata": {},
   "outputs": [],
   "source": [
    "import pandas as pd\n",
    "\n",
    "data_csv = pd.read_csv('clients.csv')      #Afin de faciliter l'import, placer les fichiers dans le même dossier que le projet\n",
    "data_csv"
   ]
  }
 ],
 "metadata": {
  "language_info": {
   "name": "python"
  },
  "orig_nbformat": 4
 },
 "nbformat": 4,
 "nbformat_minor": 2
}
