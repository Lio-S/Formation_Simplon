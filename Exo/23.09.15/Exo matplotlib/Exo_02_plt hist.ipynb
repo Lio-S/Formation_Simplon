{
 "cells": [
  {
   "cell_type": "markdown",
   "metadata": {},
   "source": [
    "2. Tracer un histogramme à partir de données aléatoires générées par NumPy."
   ]
  },
  {
   "cell_type": "code",
   "execution_count": 2,
   "metadata": {},
   "outputs": [
    {
     "name": "stdout",
     "output_type": "stream",
     "text": [
      "[3 4 0 4 0 5 8 6 9 8 4 7 5 7 9 0 0 3 8 0 1 1 4 9 3 9 1 7 6 5 2 1 2 2 8 8 5\n",
      " 2 0 5 0 9 9 6 7 6 7 8 0 2]\n",
      "Help on function xticks in module matplotlib.pyplot:\n",
      "\n",
      "xticks(ticks=None, labels=None, *, minor=False, **kwargs)\n",
      "    Get or set the current tick locations and labels of the x-axis.\n",
      "    \n",
      "    Pass no arguments to return the current values without modifying them.\n",
      "    \n",
      "    Parameters\n",
      "    ----------\n",
      "    ticks : array-like, optional\n",
      "        The list of xtick locations.  Passing an empty list removes all xticks.\n",
      "    labels : array-like, optional\n",
      "        The labels to place at the given *ticks* locations.  This argument can\n",
      "        only be passed if *ticks* is passed as well.\n",
      "    minor : bool, default: False\n",
      "        If ``False``, get/set the major ticks/labels; if ``True``, the minor\n",
      "        ticks/labels.\n",
      "    **kwargs\n",
      "        `.Text` properties can be used to control the appearance of the labels.\n",
      "    \n",
      "    Returns\n",
      "    -------\n",
      "    locs\n",
      "        The list of xtick locations.\n",
      "    labels\n",
      "        The list of xlabel `.Text` objects.\n",
      "    \n",
      "    Notes\n",
      "    -----\n",
      "    Calling this function with no arguments (e.g. ``xticks()``) is the pyplot\n",
      "    equivalent of calling `~.Axes.get_xticks` and `~.Axes.get_xticklabels` on\n",
      "    the current axes.\n",
      "    Calling this function with arguments is the pyplot equivalent of calling\n",
      "    `~.Axes.set_xticks` and `~.Axes.set_xticklabels` on the current axes.\n",
      "    \n",
      "    Examples\n",
      "    --------\n",
      "    >>> locs, labels = xticks()  # Get the current locations and labels.\n",
      "    >>> xticks(np.arange(0, 1, step=0.2))  # Set label locations.\n",
      "    >>> xticks(np.arange(3), ['Tom', 'Dick', 'Sue'])  # Set text labels.\n",
      "    >>> xticks([0, 1, 2], ['January', 'February', 'March'],\n",
      "    ...        rotation=20)  # Set text labels and properties.\n",
      "    >>> xticks([])  # Disable xticks.\n",
      "\n"
     ]
    },
    {
     "data": {
      "image/png": "[encoded data removed]",
      "text/plain": [
       "<Figure size 640x480 with 1 Axes>"
      ]
     },
     "metadata": {},
     "output_type": "display_data"
    }
   ],
   "source": [
    "import matplotlib.pyplot as plt  # Module pour tracer les graphiques\n",
    "import numpy as np\n",
    "\n",
    "# Tableau de 50 valeurs comprises entre 0 et 9\n",
    "valeurs = np.random.randint(0, 10, 50)\n",
    "print(valeurs)  # Affichage des valeurs\n",
    "# Création d'un tableau avec les intervalles centrés sur la valeur entière\n",
    "inter = [-0.5, 0.5, 1.5, 2.5, 3.5, 4.5, 5.5, 6.5, 7.5, 8.5, 9.5]\n",
    "# help(plt.hist)\n",
    "plt.hist(valeurs, bins=inter, rwidth=0.8)  # Création de l'histogramme\n",
    "plt.xlabel('Valeurs')\n",
    "plt.xticks(np.arange(0, 10))\n",
    "help(plt.xticks)\n",
    "plt.ylabel('Nombres')\n",
    "plt.title(\"Exemple d'histogramme simple\")\n",
    "plt.show()"
   ]
  }
 ],
 "metadata": {
  "kernelspec": {
   "display_name": "base",
   "language": "python",
   "name": "python3"
  },
  "language_info": {
   "codemirror_mode": {
    "name": "ipython",
    "version": 3
   },
   "file_extension": ".py",
   "mimetype": "text/x-python",
   "name": "python",
   "nbconvert_exporter": "python",
   "pygments_lexer": "ipython3",
   "version": "3.9.16"
  },
  "orig_nbformat": 4
 },
 "nbformat": 4,
 "nbformat_minor": 2
}
