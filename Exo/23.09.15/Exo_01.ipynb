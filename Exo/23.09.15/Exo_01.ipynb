{
 "cells": [
  {
   "cell_type": "markdown",
   "metadata": {},
   "source": [
    "Numpy random\n",
    "Faire un générateur de nombre aléatoire pour le loto et l'euromillion. Attention c’est un tirage aléatoire sans remise (c.a.d que la boule trouvée n’est pas remise en jeu) et tous les chiffres ont la même probabilité d’apparaître."
   ]
  },
  {
   "cell_type": "code",
   "execution_count": 1,
   "metadata": {},
   "outputs": [
    {
     "ename": "ValueError",
     "evalue": "maximum supported dimension for an ndarray is 32, found 50",
     "output_type": "error",
     "traceback": [
      "\u001b[1;31m---------------------------------------------------------------------------\u001b[0m",
      "\u001b[1;31mValueError\u001b[0m                                Traceback (most recent call last)",
      "\u001b[1;32mc:\\Users\\ZElion\\Projets IA\\Simplon\\Exo\\23.09.15\\Exo_01.ipynb Cell 2\u001b[0m line \u001b[0;36m4\n\u001b[0;32m      <a href='vscode-notebook-cell:/c%3A/Users/ZElion/Projets%20IA/Simplon/Exo/23.09.15/Exo_01.ipynb#W1sZmlsZQ%3D%3D?line=0'>1</a>\u001b[0m \u001b[39mimport\u001b[39;00m \u001b[39mnumpy\u001b[39;00m \u001b[39mas\u001b[39;00m \u001b[39mnp\u001b[39;00m\n\u001b[0;32m      <a href='vscode-notebook-cell:/c%3A/Users/ZElion/Projets%20IA/Simplon/Exo/23.09.15/Exo_01.ipynb#W1sZmlsZQ%3D%3D?line=2'>3</a>\u001b[0m Tab \u001b[39m=\u001b[39m [np\u001b[39m.\u001b[39marange(\u001b[39m1\u001b[39m,\u001b[39m50\u001b[39m) \u001b[39mfor\u001b[39;00m i \u001b[39min\u001b[39;00m \u001b[39mrange\u001b[39m(\u001b[39m50\u001b[39m)]\n\u001b[1;32m----> <a href='vscode-notebook-cell:/c%3A/Users/ZElion/Projets%20IA/Simplon/Exo/23.09.15/Exo_01.ipynb#W1sZmlsZQ%3D%3D?line=3'>4</a>\u001b[0m Nombre_Gen \u001b[39m=\u001b[39m \u001b[39mint\u001b[39m(np\u001b[39m.\u001b[39;49mrandom\u001b[39m.\u001b[39;49msample(Tab))\n\u001b[0;32m      <a href='vscode-notebook-cell:/c%3A/Users/ZElion/Projets%20IA/Simplon/Exo/23.09.15/Exo_01.ipynb#W1sZmlsZQ%3D%3D?line=6'>7</a>\u001b[0m Ret\u001b[39m=\u001b[39m\u001b[39m0\u001b[39m\n\u001b[0;32m      <a href='vscode-notebook-cell:/c%3A/Users/ZElion/Projets%20IA/Simplon/Exo/23.09.15/Exo_01.ipynb#W1sZmlsZQ%3D%3D?line=7'>8</a>\u001b[0m \u001b[39mwhile\u001b[39;00m (\u001b[39mint\u001b[39m(Ret)\u001b[39m!=\u001b[39mNombre_Gen) :\n",
      "File \u001b[1;32mmtrand.pyx:4855\u001b[0m, in \u001b[0;36mnumpy.random.mtrand.sample\u001b[1;34m()\u001b[0m\n",
      "File \u001b[1;32mmtrand.pyx:436\u001b[0m, in \u001b[0;36mnumpy.random.mtrand.RandomState.random_sample\u001b[1;34m()\u001b[0m\n",
      "File \u001b[1;32m_common.pyx:307\u001b[0m, in \u001b[0;36mnumpy.random._common.double_fill\u001b[1;34m()\u001b[0m\n",
      "\u001b[1;31mValueError\u001b[0m: maximum supported dimension for an ndarray is 32, found 50"
     ]
    }
   ],
   "source": [
    "import numpy as np\n",
    "\n",
    "Tab = [np.arange(1,50) for i in range(50)]\n",
    "Nombre_Gen = int(np.random.sample(Tab))\n",
    "\n",
    "\n",
    "Ret=0\n",
    "while (int(Ret)!=Nombre_Gen) :\n",
    "    if int(Ret)==Nombre_Gen :\n",
    "        exit\n",
    "    Ret = input(\"Devinez un nombre entre 1 et 1000 :\")\n",
    "    if int(Ret)<Nombre_Gen :\n",
    "        print(\"Le nombre secret est supérieur à \",Ret)\n",
    "    elif int(Ret)> Nombre_Gen :\n",
    "        print(\"Le nombre secret est inférieur à \",Ret)\n",
    "    else :\n",
    "        print(\"Bien joué !!!\") "
   ]
  }
 ],
 "metadata": {
  "kernelspec": {
   "display_name": "base",
   "language": "python",
   "name": "python3"
  },
  "language_info": {
   "codemirror_mode": {
    "name": "ipython",
    "version": 3
   },
   "file_extension": ".py",
   "mimetype": "text/x-python",
   "name": "python",
   "nbconvert_exporter": "python",
   "pygments_lexer": "ipython3",
   "version": "3.9.16"
  },
  "orig_nbformat": 4
 },
 "nbformat": 4,
 "nbformat_minor": 2
}
