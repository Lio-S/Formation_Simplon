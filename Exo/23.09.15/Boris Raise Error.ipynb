{
 "cells": [
  {
   "cell_type": "code",
   "execution_count": 3,
   "metadata": {},
   "outputs": [
    {
     "name": "stdout",
     "output_type": "stream",
     "text": [
      "Bravo à tous!\n"
     ]
    }
   ],
   "source": [
    "#un exemple de raise\n",
    "nb = input('Choisir un entier positif')\n",
    "if nb.isnumeric() == False:\n",
    "    raise TypeError('On a dit un E N T I E R   P O S I T I F')\n",
    "else:\n",
    "    print(\"Bravo à tous!\") "
   ]
  }
 ],
 "metadata": {
  "kernelspec": {
   "display_name": "base",
   "language": "python",
   "name": "python3"
  },
  "language_info": {
   "codemirror_mode": {
    "name": "ipython",
    "version": 3
   },
   "file_extension": ".py",
   "mimetype": "text/x-python",
   "name": "python",
   "nbconvert_exporter": "python",
   "pygments_lexer": "ipython3",
   "version": "3.9.16"
  },
  "orig_nbformat": 4
 },
 "nbformat": 4,
 "nbformat_minor": 2
}
